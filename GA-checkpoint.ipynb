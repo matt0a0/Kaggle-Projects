{
 "cells": [
  {
   "cell_type": "code",
   "execution_count": 1,
   "id": "feb5e568-f5f2-40b6-b9ef-1fff613d7e72",
   "metadata": {},
   "outputs": [],
   "source": [
    "import math\n",
    "import matplotlib\n",
    "import matplotlib.pyplot as plt\n",
    "import random\n",
    "random.seed(1)"
   ]
  },
  {
   "cell_type": "code",
   "execution_count": 2,
   "id": "9a94aad5-561b-417f-a919-ef1f52fc3fa2",
   "metadata": {},
   "outputs": [],
   "source": [
    "#Calculando quantos bits são necessários para representar qualquer valor no dominio de -100 a 100\n",
    "def bits_necessarios(dominio_max,dominio_min,precisao_casas_decimais):\n",
    "    k_bits = math.log(((dominio_max - dominio_min) * 10 ** precisao_casas_decimais),2)\n",
    "    #Precisamos ajustar(arredondar) a quantidade de bits para que seja inteiro\n",
    "    if(k_bits > round(k_bits)):\n",
    "        k_bits = round(k_bits) + 1\n",
    "    return k_bits"
   ]
  },
  {
   "cell_type": "code",
   "execution_count": 3,
   "id": "ab30a4ac-8622-433a-bf1b-1b8ebbef7b3b",
   "metadata": {},
   "outputs": [],
   "source": [
    "#Definindo a precisão\n",
    "def precisao(dominio_max,dominio_min,bits):\n",
    "    precisao = (dominio_max - dominio_min) / ((2 ** bits) -1)\n",
    "    return precisao"
   ]
  },
  {
   "cell_type": "code",
   "execution_count": 82,
   "id": "717f998d-fc3a-4752-9984-4b6d25a6f8d3",
   "metadata": {},
   "outputs": [],
   "source": [
    "## Criando o Decodificador para representao o valor em binário para a representação no domínio em forma real\n",
    "def decodificador_decimal(cadeia_gene_separada):\n",
    "    decodificados_decimais = []\n",
    "    for i in range(0,len(cadeia_gene_separada)):\n",
    "        v1 = int(cadeia_gene_separada[i][0], 2)\n",
    "        v2 = int(cadeia_gene_separada[i][1], 2)\n",
    "        decodificados_decimais.append([v1,v2])\n",
    "    return decodificados_decimais"
   ]
  },
  {
   "cell_type": "code",
   "execution_count": 37,
   "id": "c174353a-4cea-4126-a1af-93585335a860",
   "metadata": {},
   "outputs": [],
   "source": [
    "## Realizaremos agora a conversão do objeto decimal, para o que é representado no domínio\n",
    "def decodificador_real(cadeia_gene,dominio_max,dominio_min,precisao_casas_decimais):\n",
    "    valor_decimal = decodificador_decimal(cadeia_gene)\n",
    "    precisao_dominio = precisao(dominio_max,dominio_min,precisao_casas_decimais)\n",
    "    val_real = dominio_min + precisao_dominio * valor_decimal\n",
    "    return round(val_real,15)"
   ]
  },
  {
   "cell_type": "code",
   "execution_count": 6,
   "id": "a907379e-3845-438a-ae9c-dcab958fe749",
   "metadata": {},
   "outputs": [],
   "source": [
    "def funcaoObjetiva(x,y):\n",
    "    f6 = float(0.5 - (((math.sin(((x*x) + (y*y))**(1/2))) - 0.5) / (1 + 000.1 * ((x*x) + (y*y)))**2))\n",
    "    return round(f6,10)"
   ]
  },
  {
   "cell_type": "code",
   "execution_count": 7,
   "id": "d631102d-67f0-4cbd-8ab1-89b1075e8110",
   "metadata": {},
   "outputs": [],
   "source": [
    "#Criando uma População Inicial Aleatória 50 bits 25 para x e 25 para y\n",
    "def gerarPopulacao(individuos):\n",
    "    cadeia_genetica_casal = []\n",
    "    cont = 0\n",
    "    while cont < individuos:\n",
    "        caracteres = \"\"\n",
    "        for cromossomo in range(0,50):\n",
    "            caracteres = caracteres + str(random.randint(0,1))\n",
    "        cadeia_genetica_casal.append(caracteres)\n",
    "        cont = cont + 1\n",
    "    return cadeia_genetica_casal"
   ]
  },
  {
   "cell_type": "code",
   "execution_count": 8,
   "id": "7c921350-0a74-4952-bad1-25b298df2f52",
   "metadata": {},
   "outputs": [],
   "source": [
    "def geraPopulacaoSeparada(individuos,populacao):\n",
    "    cadeia_gene_separada = []\n",
    "    for i in range(0,len(populacao)):\n",
    "        x = populacao[i][:25]\n",
    "        y = populacao[i][25:]\n",
    "        cadeia_gene_seperada_eixos = [x,y]\n",
    "        cadeia_gene_separada.append(cadeia_gene_seperada_eixos)\n",
    "    return cadeia_gene_separada"
   ]
  },
  {
   "cell_type": "code",
   "execution_count": 35,
   "id": "03b906a9-a9d9-4c4f-b11e-a186c99bd92e",
   "metadata": {},
   "outputs": [],
   "source": [
    "#Vamos aplicar a decodificação dos valores binários para os valores reais para podermos futuramente calcular o fitnnes\n",
    "def decodificarPopulacao(populacao,precisao_casas_decimais):\n",
    "    populacao_convertida = []\n",
    "    for individuo in range(0,len(populacao)):\n",
    "        cadeia_gene1 = str(populacao[individuo][0])\n",
    "        cadeia_gene2 = str(populacao[individuo][1])\n",
    "        x = decodificador_real(cadeia_gene1,dominio_max,dominio_min,precisao_casas_decimais)\n",
    "        y = decodificador_real(cadeia_gene2,dominio_max,dominio_min,precisao_casas_decimais)\n",
    "        populacao_convertida.append([x,y])\n",
    "    return populacao_convertida"
   ]
  },
  {
   "cell_type": "code",
   "execution_count": 10,
   "id": "b7efdfb4-a782-42f7-977b-b2cba9378a6d",
   "metadata": {},
   "outputs": [],
   "source": [
    "def calculandoAptidao(populacao_convertida):\n",
    "    aptidoes = []\n",
    "    for individuo in range(0,len(populacao_convertida)):\n",
    "        aptidao = funcaoObjetiva(populacao_convertida[individuo][0],populacao_convertida[individuo][1])\n",
    "        aptidoes.append(aptidao)\n",
    "    return aptidoes"
   ]
  },
  {
   "cell_type": "code",
   "execution_count": 11,
   "id": "aed76210-11e4-4a14-ac7b-36b38b28b442",
   "metadata": {},
   "outputs": [],
   "source": [
    "#Aagora vamos realizar a partição para o métodod da roleta, dado a aptidão de cada um dos nossos indivíduos\n",
    "def particaoPopulacao(populacao_convertida):\n",
    "    proporcoes = []\n",
    "    aptidoes_por_individuo = calculandoAptidao(populacao_convertida)\n",
    "    soma_aptidioes = 0\n",
    "    for individuo in range(0,len(aptidoes_por_individuo)):\n",
    "        soma_aptidioes = soma_aptidioes + aptidoes_por_individuo[individuo]\n",
    "    for individuo in range(0,len(aptidoes_por_individuo)):\n",
    "        proporcao_individuo_atual = aptidoes_por_individuo[individuo] / soma_aptidioes\n",
    "        proporcoes.append(proporcao_individuo_atual)\n",
    "    return proporcoes"
   ]
  },
  {
   "cell_type": "code",
   "execution_count": 12,
   "id": "89514c76-e921-40ba-bcef-271bcd19b817",
   "metadata": {},
   "outputs": [],
   "source": [
    "## Vamos construir a roleta\n",
    "def criandoRoleta(probabilidades_relativas):\n",
    "    roleta = []\n",
    "    soma_acumulativa = 0\n",
    "    acumulado = 0\n",
    "    for i in range(0,len(probabilidades_relativas)):\n",
    "        soma_acumulativa = soma_acumulativa + probabilidades_relativas[i] #Soma de todas as probabilidades \n",
    "    for probabilidade in probabilidades_relativas:\n",
    "        acumulado = acumulado + (probabilidade/soma_acumulativa)\n",
    "        roleta.append(acumulado)\n",
    "    return roleta"
   ]
  },
  {
   "cell_type": "code",
   "execution_count": 13,
   "id": "2b62abfe-cd11-447b-998b-c27da96ffd84",
   "metadata": {},
   "outputs": [],
   "source": [
    "##def girandoRoleta(roleta,num_selecionados):\n",
    "def girandoRoleta(roleta, quantidade_individuos):\n",
    "    individuos_selecionados = []\n",
    "    for i in range(0,quantidade_individuos):\n",
    "        ##Giro a roleta\n",
    "        giro_aleatorio = random.random()\n",
    "        #Selecionando ddeposi que a roleta gira\n",
    "        for i in range(len(roleta)):\n",
    "            if roleta[i] >= giro_aleatorio:\n",
    "                individuos_selecionados.append(i)\n",
    "                break\n",
    "    return individuos_selecionados"
   ]
  },
  {
   "cell_type": "code",
   "execution_count": 14,
   "id": "adc485e1-0bc5-45b2-b1e7-6fd98589780b",
   "metadata": {},
   "outputs": [],
   "source": [
    "def reproducao(individuos_selecionados,taxa_cruzamento):\n",
    "    ###### Defino a taxa de cruzamento para os pai ######\n",
    "    taxa_primeira_parte_do_filho = round((taxa_cruzamento * 50) / 100) ## 50 quantidade de bits\n",
    "    taxa_segunda_parte_do_filho = 50 - taxa_primeira_parte_do_filho ## Quantos bits serão usados no segundo corte\n",
    "    ###### Cria e Armazeno os individuos selecionados para ser usado no laço ######\n",
    "    pais = []\n",
    "    pais.append(populacao[individuos_selecionados[0]]) #Pai_01\n",
    "    pais.append(populacao[individuos_selecionados[1]])  #Pai_02\n",
    "    pontos_corte = []\n",
    "    #Pont0s de corte de cada pai, para seus filhos\n",
    "    ponto_corte_pai01 = 10 #random.randint(0,50) #Para fins de teste escolha 10 E 40\n",
    "    ponto_corte_pai02 = 10 #random.randint(0,50) #Para fins de teste escolha 10 E 40\n",
    "    # Mostra os pontos de Corte de cada pai\n",
    "    ##print(\"Pai1: {} \\nPai2 :{}\".format(ponto_corte_pai01,ponto_corte_pai02))\n",
    "    #print(\"Pai 1 {} \\nPai                                           {}\".format(pai_01,pai_01[40:]))\n",
    "    #print(\"Pai 2 {} \\nPai             {}\".format(pai_02,pai_02[10:]))\n",
    "    ###### Armazeno os ponto de corte para ser usado no laço ######\n",
    "    pontos_corte.append(ponto_corte_pai01)\n",
    "    pontos_corte.append(ponto_corte_pai02)\n",
    "    ###### Cria um lista contendo os genes dos pais separados, dado o ponto de corte que eels receberam ######\n",
    "    filhos_nao_cruzados = []\n",
    "    ###### Indice de acesso a minha lista de pontos de corte ######\n",
    "    ponto = 0\n",
    "    ###### Atribuo a partir do ponto de corte de cada um dos pais, seus respectivos cromossomos os filho nãa cruzados ######\n",
    "    for pai in range(0,len(pais)):\n",
    "        #print(\"############################################# {} CICLO #############################################\".format(pai))\n",
    "        #print(\"############################################# Ponto de Corte {} = {}  ##############################\".format(ponto,pontos_corte[ponto]))\n",
    "        ## 38 Primeiro + 12 Primeiro -> 38 Segundo + 12 Segundo ....... \n",
    "        ######################################  38 Primeiro ##########################################################################################\n",
    "        ## Para o primeiro Filho - Genes do Pai 01 \n",
    "        #Se de onde eu começo bater até o limite, tá ok ainda, posso pegar so os bits do vetor mesmo\n",
    "        if len(pais[pai][pontos_corte[ponto]:]) >= taxa_primeira_parte_do_filho: # Se Do indice que eu to até o fim for maior que meu limite de 38 bits 75%\n",
    "            parte_01_filho = pais[pai][pontos_corte[ponto]:taxa_primeira_parte_do_filho + pontos_corte[ponto]] # Meu filho pega só os 37 que lhe cabem\n",
    "            ##PRINTS ABAIXO APENAS PARA MOSTRAR OS CASOS EM QUE SÃO 10 E 40\n",
    "            #print(\"Filho Direto\")\n",
    "            #print(\"Pai {}           {} \\nPT1P1                     {}\".format(pai,pais[pai],pais[pai][pontos_corte[ponto]:]))\n",
    "            #print(\"Filho01                   {}\".format(parte_01_filho))\n",
    "            #print(f\"Primeira parte do filho/Bits \" + str(len(parte_01_filho)))\n",
    "        else:\n",
    "            #print(\"Filho particionado\")\n",
    "            parte_01_pai = pais[pai][pontos_corte[ponto]:]\n",
    "            parte_02_pai = pais[pai][:taxa_primeira_parte_do_filho - len(pais[pai][pontos_corte[ponto]:])]\n",
    "            parte_01_filho = parte_01_pai + parte_02_pai\n",
    "            ##PRINTS ABAIXO APENAS PARA MOSTRAR OS CASOS EM QUE SÃO 10 E 40\n",
    "            #print(\"Filho particionado\")\n",
    "            #print(\"Pai {}          {}\".format(pai,pais[pai]))\n",
    "            #print(\"PT1P1                                                  {}\".format(parte_01_pai))\n",
    "            #print(\"PT2P2          {}\".format(parte_02_pai))\n",
    "            #print(\"Filho          {}\".format(parte_01_filho))\n",
    "            #print(f\"Primeira parte do Filho/Bits \" + str(len(parte_01_filho)))\n",
    "        ######################################  12 Primeiro ##########################################################################################\n",
    "        ## Para o primeiro Filho - Genes do Pai 01\n",
    "        #Se de onde eu começo bater até o limite, tá ok ainda, posso pegar so os bits do vetor mesmo\n",
    "        if len(pais[pai][pontos_corte[ponto]:]) >= taxa_segunda_parte_do_filho: # Se Do indice que eu to até o fim for maior que meu limite de 38 bits 75%\n",
    "            parte_02_filho = pais[pai][pontos_corte[ponto]:taxa_segunda_parte_do_filho + pontos_corte[ponto]] # Meu filho pega só os 37 que lhe cabem\n",
    "            ##PRINTS ABAIXO APENAS PARA MOSTRAR OS CASOS EM QUE SÃO 10 E 40\n",
    "            #print(\"Filho Direto\")\n",
    "            #print(\"Pai {}           {} \\nPT1P1                     {}\".format(pai,pais[pai],pais[pai][pontos_corte[ponto]:]))\n",
    "            #print(\"Filho01                   {}\".format(parte_02_filho))\n",
    "            #print(f\"Primeira parte do filho/Bits \" + str(len(parte_02_filho)))\n",
    "        else:\n",
    "            print(\"Filho particionado\")\n",
    "            parte_01_pai = pais[pai][pontos_corte[ponto]:]\n",
    "            parte_02_pai = pais[pai][:taxa_segunda_parte_do_filho - len(pais[pai][pontos_corte[ponto]:])]\n",
    "            parte_02_filho = parte_01_pai + parte_02_pai\n",
    "            ##PRINTS ABAIXO APENAS PARA MOSTRAR OS CASOS EM QUE SÃO 10 E 40\n",
    "            #print(\"Filho particionado\")\n",
    "            #print(\"Pai {}          {}\".format(pai,pais[pai]))\n",
    "            #print(\"PT1P1                                                  {}\".format(parte_01_pai))\n",
    "            #print(\"PT2P2          {}\".format(parte_02_pai))\n",
    "            #print(\"Filho          {}\".format(parte_02_filho))\n",
    "            #print(f\"Primeira parte do Filho/Bits \" + str(len(parte_02_filho)))\n",
    "        filhos_nao_cruzados.append([parte_01_filho,parte_02_filho])    \n",
    "        ponto = ponto + 1\n",
    "    return filhos_nao_cruzados"
   ]
  },
  {
   "cell_type": "code",
   "execution_count": 15,
   "id": "23129e23-eed2-4451-8784-4b321fd60164",
   "metadata": {},
   "outputs": [
    {
     "ename": "NameError",
     "evalue": "name 'individuos_selecionados' is not defined",
     "output_type": "error",
     "traceback": [
      "\u001b[1;31m---------------------------------------------------------------------------\u001b[0m",
      "\u001b[1;31mNameError\u001b[0m                                 Traceback (most recent call last)",
      "Cell \u001b[1;32mIn[15], line 1\u001b[0m\n\u001b[1;32m----> 1\u001b[0m filhos_sem_cruzamento \u001b[38;5;241m=\u001b[39m reproducao(\u001b[43mindividuos_selecionados\u001b[49m,\u001b[38;5;241m75\u001b[39m)\n",
      "\u001b[1;31mNameError\u001b[0m: name 'individuos_selecionados' is not defined"
     ]
    }
   ],
   "source": [
    "filhos_sem_cruzamento = reproducao(individuos_selecionados,75)"
   ]
  },
  {
   "cell_type": "code",
   "execution_count": null,
   "id": "30864863-6262-4eb5-bb97-5bacd969b90d",
   "metadata": {},
   "outputs": [],
   "source": [
    "def crossover(filhos_sem_cruzamento):\n",
    "    ###### Cria e Armazeno os individuos selecionados para ser usado no laço ######\n",
    "    pais = []\n",
    "    pais.append(populacao[individuos_selecionados[0]]) #Pai_01\n",
    "    pais.append(populacao[individuos_selecionados[1]])  #Pai_02\n",
    "    filhos_cruzados = []\n",
    "    filho01 = filhos_sem_cruzamento[0][0] + filhos_sem_cruzamento[1][1]\n",
    "    filho02 = filhos_sem_cruzamento[1][0] + filhos_sem_cruzamento[0][1]\n",
    "    filhos_cruzados.append(filho01)\n",
    "    filhos_cruzados.append(filho02)\n",
    "    if filhos_cruzados[0] != pais[0] and filhos_cruzados[0] != pais[1] and filhos_cruzados[1] != pais[0] and filhos_cruzados[1] != pais[1] :\n",
    "        return filhos_cruzados\n",
    "       #print(\"ok\")\n",
    "    else:\n",
    "        #print(\"Fodeu\")\n",
    "        novos_individuos_selecionados = girandoRoleta(roleta,2)\n",
    "        nova_reproducao = reproducao(novos_individuos_selecionados,taxa_cruzamento)\n",
    "        return crossover(nova_reproducao)"
   ]
  },
  {
   "cell_type": "code",
   "execution_count": 16,
   "id": "8492929b-49ee-4411-9d83-e78b957eb890",
   "metadata": {},
   "outputs": [],
   "source": [
    "def mutacao(filhos_cruzados, taxa_mutacao):\n",
    "    filhos_mutados = []\n",
    "    for filho in filhos_cruzados:\n",
    "        filho_mutado = \"\"\n",
    "        for bit in filho:\n",
    "            if random.random() < taxa_mutacao:\n",
    "                # Com uma certa probabilidade (taxa_mutacao), o bit será invertido\n",
    "                filho_mutado += \"1\" if bit == \"0\" else \"0\"\n",
    "            else:\n",
    "                filho_mutado += bit\n",
    "        filhos_mutados.append(filho_mutado)\n",
    "    return filhos_mutados"
   ]
  },
  {
   "cell_type": "code",
   "execution_count": 17,
   "id": "fae599e5-5ac5-4ec1-a202-8d7849143f7a",
   "metadata": {},
   "outputs": [],
   "source": [
    "def pioresPaisMelhoresFilhos(populacao, filhos_mutados):\n",
    "    # Decodificar a população atual\n",
    "    populacao_convertida = decodificarPopulacao(populacao)\n",
    "    # Calcular as aptidões dos indivíduos na população atual\n",
    "    aptidoes = calculandoAptidao(populacao_convertida)\n",
    "    # Encontrar os índices dos dois piores indivíduos na população atual\n",
    "    indices_piores = sorted(range(len(aptidoes)), key=lambda i: aptidoes[i])[:2]\n",
    "    # Calculaas aptidões dos filhos mutados\n",
    "    aptidoes_filhos_mutados = calculandoAptidao(decodificarPopulacao(filhos_mutados))\n",
    "    # Verificar se algum filho mutado é melhor que os piores indivíduos e troca\n",
    "    for i, indice_pior in enumerate(indices_piores):\n",
    "        if aptidoes_filhos_mutados[i] > aptidoes[indice_pior]:\n",
    "            populacao[indice_pior] = filhos_mutados[i]\n",
    "    return populacao"
   ]
  },
  {
   "cell_type": "code",
   "execution_count": 18,
   "id": "a5f8fa2f-3b1c-4a79-923f-a4d032f6f20a",
   "metadata": {},
   "outputs": [],
   "source": [
    "def novaGeracao(populacao, taxa_cruzamento, taxa_mutacao):\n",
    "    # Partição da população atual para seleção\n",
    "    probabilidades_relativas = particaoPopulacao(populacao)\n",
    "    # Criação da roleta\n",
    "    roleta = criandoRoleta(probabilidades_relativas)\n",
    "    # Seleção de indivíduos para reprodução\n",
    "    individuos_selecionados = girandoRoleta(roleta, 2)\n",
    "    # Reprodução\n",
    "    filhos_sem_cruzamento = reproducao(individuos_selecionados, taxa_cruzamento)\n",
    "    # Crossover\n",
    "    filhos_cruzados = crossover(filhos_sem_cruzamento)\n",
    "    # Mutação\n",
    "    filhos_mutados = mutacao(filhos_cruzados, taxa_mutacao)\n",
    "    # Substituição dos piores pais pelos melhores filhos\n",
    "    populacao = pioresPaisMelhoresFilhos(populacao, filhos_mutados)\n",
    "    \n",
    "    return populacao"
   ]
  },
  {
   "cell_type": "code",
   "execution_count": 40,
   "id": "ef5d3dfd-1bdf-4060-a223-a31872b90be9",
   "metadata": {},
   "outputs": [
    {
     "name": "stdout",
     "output_type": "stream",
     "text": [
      "25\n",
      "5.9604646551747515e-06\n",
      "100\n",
      "['0101101001011011111010001', '1011111100100111111010010']\n"
     ]
    }
   ],
   "source": [
    "#def algoritmoGenetico():\n",
    "t = 0\n",
    "individuos = 100\n",
    "gercoes = 100 \n",
    "taxa_mutacao = 0.01  #Taxa de mutação de 1%\n",
    "precisao_casas_decimais = 5 ## Precisão de casas decimais\n",
    "dominio_max = 100\n",
    "dominio_min = -100\n",
    "## Hiper Parametros ##\n",
    "bits = bits_necessarios(dominio_max,dominio_min,precisao_casas_decimais)\n",
    "print(bits)\n",
    "precisao_dominio = precisao(dominio_max,dominio_min,bits)\n",
    "print(precisao_dominio)\n",
    "\n",
    "##Iniciando o Ag ##\n",
    "populacao = gerarPopulacao(individuos)\n",
    "print(len(populacao))\n",
    "populacao_separada = geraPopulacaoSeparada(individuos,populacao) ## Etapa para avaliacao\n",
    "print(populacao_separada[0])\n",
    "#populacao_decodificada = decodificarPopulacao(populacao_separada,precisao_casas_decimais)\n",
    "#print(populacao_decodificada[0])"
   ]
  },
  {
   "cell_type": "code",
   "execution_count": 91,
   "id": "8c06dc7f-0ffe-4e5c-8545-615feb2458ce",
   "metadata": {},
   "outputs": [],
   "source": [
    "real = decodificador_decimal(populacao_separada[:2])"
   ]
  },
  {
   "cell_type": "code",
   "execution_count": 92,
   "id": "238af58f-04eb-4701-bb9f-f1f8e62ce829",
   "metadata": {},
   "outputs": [
    {
     "data": {
      "text/plain": [
       "[[11843537, 25055186], [18643442, 4649539]]"
      ]
     },
     "execution_count": 92,
     "metadata": {},
     "output_type": "execute_result"
    }
   ],
   "source": [
    "real"
   ]
  },
  {
   "cell_type": "code",
   "execution_count": null,
   "id": "3a7e12cd-b38e-4a00-9019-2db1104e0a6e",
   "metadata": {},
   "outputs": [],
   "source": [
    "decodificador_decima"
   ]
  }
 ],
 "metadata": {
  "kernelspec": {
   "display_name": "Python 3 (ipykernel)",
   "language": "python",
   "name": "python3"
  },
  "language_info": {
   "codemirror_mode": {
    "name": "ipython",
    "version": 3
   },
   "file_extension": ".py",
   "mimetype": "text/x-python",
   "name": "python",
   "nbconvert_exporter": "python",
   "pygments_lexer": "ipython3",
   "version": "3.10.14"
  }
 },
 "nbformat": 4,
 "nbformat_minor": 5
}
