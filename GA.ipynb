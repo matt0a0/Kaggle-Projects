{
 "cells": [
  {
   "cell_type": "code",
   "execution_count": 1,
   "id": "feb5e568-f5f2-40b6-b9ef-1fff613d7e72",
   "metadata": {},
   "outputs": [],
   "source": [
    "import math\n",
    "import matplotlib\n",
    "import matplotlib.pyplot as plt\n",
    "import random\n",
    "random.seed(1)"
   ]
  },
  {
   "cell_type": "code",
   "execution_count": 2,
   "id": "9a94aad5-561b-417f-a919-ef1f52fc3fa2",
   "metadata": {},
   "outputs": [],
   "source": [
    "#Calculando quantos bits são necessários para representar qualquer valor no dominio de -100 a 100\n",
    "def bits_necessarios(dominio_max,dominio_min,precisao_casas_decimais):\n",
    "    k_bits = math.log(((dominio_max - dominio_min) * 10 ** precisao_casas_decimais),2)\n",
    "    #Precisamos ajustar(arredondar) a quantidade de bits para que seja inteiro\n",
    "    if(k_bits > round(k_bits)):\n",
    "        k_bits = round(k_bits) + 1\n",
    "    return k_bits"
   ]
  },
  {
   "cell_type": "code",
   "execution_count": 3,
   "id": "ab30a4ac-8622-433a-bf1b-1b8ebbef7b3b",
   "metadata": {},
   "outputs": [],
   "source": [
    "#Definindo a precisão\n",
    "def precisao(dominio_max,dominio_min,bits):\n",
    "    precisao = (dominio_max - dominio_min) / ((2 ** bits) -1)\n",
    "    return precisao"
   ]
  },
  {
   "cell_type": "code",
   "execution_count": 4,
   "id": "717f998d-fc3a-4752-9984-4b6d25a6f8d3",
   "metadata": {},
   "outputs": [],
   "source": [
    "## Criando o Decodificador para representao o valor em binário para a representação no domínio em forma real\n",
    "def decodificador_decimal(cadeia_gene_separada):\n",
    "    decodificados_decimais = []\n",
    "    for i in range(0,len(cadeia_gene_separada)):\n",
    "        v1 = int(cadeia_gene_separada[i][0], 2)\n",
    "        v2 = int(cadeia_gene_separada[i][1], 2)\n",
    "        decodificados_decimais.append([v1,v2])\n",
    "    return decodificados_decimais"
   ]
  },
  {
   "cell_type": "code",
   "execution_count": 5,
   "id": "c174353a-4cea-4126-a1af-93585335a860",
   "metadata": {},
   "outputs": [],
   "source": [
    "## Realizaremos agora a conversão do objeto decimal, para o que é representado no domínio\n",
    "def decodificador_real(decodificados_decimais,dominio_max,dominio_min,precisao_dominio):\n",
    "    decodificados_reais = []\n",
    "    for i in range(0,len(decodificados_decimais)):\n",
    "        v1 = dominio_min + precisao_dominio * decodificados_decimais[i][0]\n",
    "        v2 = dominio_min + precisao_dominio * decodificados_decimais[i][1]\n",
    "        decodificados_reais.append([v1,v2])\n",
    "    return decodificados_reais"
   ]
  },
  {
   "cell_type": "code",
   "execution_count": 6,
   "id": "a907379e-3845-438a-ae9c-dcab958fe749",
   "metadata": {},
   "outputs": [],
   "source": [
    "def funcaoObjetiva(x,y):\n",
    "    f6 = float(0.5 - (((math.sin(((x*x) + (y*y))**(1/2))) - 0.5) / (1 + 000.1 * ((x*x) + (y*y)))**2))\n",
    "    return round(f6,10)"
   ]
  },
  {
   "cell_type": "code",
   "execution_count": 7,
   "id": "d631102d-67f0-4cbd-8ab1-89b1075e8110",
   "metadata": {},
   "outputs": [],
   "source": [
    "#Criando uma População Inicial Aleatória 50 bits 25 para x e 25 para y\n",
    "def gerarPopulacao(individuos):\n",
    "    cadeia_genetica_casal = []\n",
    "    cont = 0\n",
    "    while cont < individuos:\n",
    "        caracteres = \"\"\n",
    "        for cromossomo in range(0,50):\n",
    "            caracteres = caracteres + str(random.randint(0,1))\n",
    "        cadeia_genetica_casal.append(caracteres)\n",
    "        cont = cont + 1\n",
    "    return cadeia_genetica_casal"
   ]
  },
  {
   "cell_type": "code",
   "execution_count": 8,
   "id": "7c921350-0a74-4952-bad1-25b298df2f52",
   "metadata": {},
   "outputs": [],
   "source": [
    "def geraPopulacaoSeparada(individuos,populacao):\n",
    "    cadeia_gene_separada = []\n",
    "    for i in range(0,len(populacao)):\n",
    "        x = populacao[i][:25]\n",
    "        y = populacao[i][25:]\n",
    "        cadeia_gene_seperada_eixos = [x,y]\n",
    "        cadeia_gene_separada.append(cadeia_gene_seperada_eixos)\n",
    "    return cadeia_gene_separada"
   ]
  },
  {
   "cell_type": "code",
   "execution_count": 9,
   "id": "03b906a9-a9d9-4c4f-b11e-a186c99bd92e",
   "metadata": {},
   "outputs": [],
   "source": [
    "#Vamos aplicar a decodificação dos valores binários para os valores reais para podermos futuramente calcular o fitnnes\n",
    "def decodificarPopulacao(cadeia_gene_separada,dominio_max,dominio_min,precisao_dominio):\n",
    "    dec_decimais = decodificador_decimal(cadeia_gene_separada)\n",
    "    dec_reais = decodificador_real(dec_decimais,dominio_max,dominio_min,precisao_dominio)\n",
    "    return dec_reais"
   ]
  },
  {
   "cell_type": "code",
   "execution_count": 10,
   "id": "b7efdfb4-a782-42f7-977b-b2cba9378a6d",
   "metadata": {},
   "outputs": [],
   "source": [
    "def calculandoAptidao(populacao_convertida):\n",
    "    aptidoes = []\n",
    "    for individuo in range(0,len(populacao_convertida)):\n",
    "        aptidao = funcaoObjetiva(populacao_convertida[individuo][0],populacao_convertida[individuo][1])\n",
    "        aptidoes.append(aptidao)\n",
    "    return aptidoes"
   ]
  },
  {
   "cell_type": "code",
   "execution_count": 11,
   "id": "aed76210-11e4-4a14-ac7b-36b38b28b442",
   "metadata": {},
   "outputs": [],
   "source": [
    "#Aagora vamos realizar a partição para o métodod da roleta, dado a aptidão de cada um dos nossos indivíduos\n",
    "def particaoPopulacao(aptidoes):\n",
    "    proporcoes = []\n",
    "    aptidoes_por_individuo = aptidoes\n",
    "    soma_aptidioes = 0\n",
    "    for individuo in range(0,len(aptidoes_por_individuo)):\n",
    "        soma_aptidioes = soma_aptidioes + aptidoes_por_individuo[individuo]\n",
    "    for individuo in range(0,len(aptidoes_por_individuo)):\n",
    "        proporcao_individuo_atual = aptidoes_por_individuo[individuo] / soma_aptidioes\n",
    "        proporcoes.append(proporcao_individuo_atual)\n",
    "    return proporcoes"
   ]
  },
  {
   "cell_type": "code",
   "execution_count": 12,
   "id": "89514c76-e921-40ba-bcef-271bcd19b817",
   "metadata": {},
   "outputs": [],
   "source": [
    "## Vamos construir a roleta\n",
    "def criandoRoleta(probabilidades_relativas):\n",
    "    roleta = []\n",
    "    soma_acumulativa = 0\n",
    "    acumulado = 0\n",
    "    for i in range(0,len(probabilidades_relativas)):\n",
    "        soma_acumulativa = soma_acumulativa + probabilidades_relativas[i] #Soma de todas as probabilidades \n",
    "    for probabilidade in probabilidades_relativas:\n",
    "        acumulado = acumulado + (probabilidade/soma_acumulativa)\n",
    "        roleta.append(acumulado)\n",
    "    return roleta"
   ]
  },
  {
   "cell_type": "code",
   "execution_count": 13,
   "id": "2b62abfe-cd11-447b-998b-c27da96ffd84",
   "metadata": {},
   "outputs": [],
   "source": [
    "##def girandoRoleta(roleta,num_selecionados):\n",
    "def girandoRoleta(roleta, quantidade_individuos):\n",
    "    individuos_selecionados = []\n",
    "    for i in range(0,quantidade_individuos):\n",
    "        ##Giro a roleta\n",
    "        giro_aleatorio = random.random()\n",
    "        #Selecionando ddeposi que a roleta gira\n",
    "        for i in range(len(roleta)):\n",
    "            if roleta[i] >= giro_aleatorio:\n",
    "                individuos_selecionados.append(i)\n",
    "                break\n",
    "    return individuos_selecionados"
   ]
  },
  {
   "cell_type": "code",
   "execution_count": 14,
   "id": "adc485e1-0bc5-45b2-b1e7-6fd98589780b",
   "metadata": {},
   "outputs": [],
   "source": [
    "def reproducao(individuos_selecionados,taxa_cruzamento):\n",
    "    ###### Defino a taxa de cruzamento para os pai ######\n",
    "    taxa_primeira_parte_do_filho = round((taxa_cruzamento * 50) / 100) ## 50 quantidade de bits\n",
    "    taxa_segunda_parte_do_filho = 50 - taxa_primeira_parte_do_filho ## Quantos bits serão usados no segundo corte\n",
    "    ###### Cria e Armazeno os individuos selecionados para ser usado no laço ######\n",
    "    pais = []\n",
    "    pais.append(populacao[individuos_selecionados[0]]) #Pai_01\n",
    "    pais.append(populacao[individuos_selecionados[1]])  #Pai_02\n",
    "    pontos_corte = []\n",
    "    #Pont0s de corte de cada pai, para seus filhos\n",
    "    ponto_corte_pai01 = random.randint(0,50) #Para fins de teste escolha 10 E 40\n",
    "    ponto_corte_pai02 = random.randint(0,50) #Para fins de teste escolha 10 E 40\n",
    "    # Mostra os pontos de Corte de cada pai\n",
    "    ##print(\"Pai1: {} \\nPai2 :{}\".format(ponto_corte_pai01,ponto_corte_pai02))\n",
    "    #print(\"Pai 1 {} \\nPai                                           {}\".format(pai_01,pai_01[40:]))\n",
    "    #print(\"Pai 2 {} \\nPai             {}\".format(pai_02,pai_02[10:]))\n",
    "    ###### Armazeno os ponto de corte para ser usado no laço ######\n",
    "    pontos_corte.append(ponto_corte_pai01)\n",
    "    pontos_corte.append(ponto_corte_pai02)\n",
    "    ###### Cria um lista contendo os genes dos pais separados, dado o ponto de corte que eels receberam ######\n",
    "    filhos_nao_cruzados = []\n",
    "    ###### Indice de acesso a minha lista de pontos de corte ######\n",
    "    ponto = 0\n",
    "    ###### Atribuo a partir do ponto de corte de cada um dos pais, seus respectivos cromossomos os filho nãa cruzados ######\n",
    "    for pai in range(0,len(pais)):\n",
    "        #print(\"############################################# {} CICLO #############################################\".format(pai))\n",
    "        #print(\"############################################# Ponto de Corte {} = {}  ##############################\".format(ponto,pontos_corte[ponto]))\n",
    "        ## 38 Primeiro + 12 Primeiro -> 38 Segundo + 12 Segundo ....... \n",
    "        ######################################  38 Primeiro ##########################################################################################\n",
    "        ## Para o primeiro Filho - Genes do Pai 01 \n",
    "        #Se de onde eu começo bater até o limite, tá ok ainda, posso pegar so os bits do vetor mesmo\n",
    "        if len(pais[pai][pontos_corte[ponto]:]) >= taxa_primeira_parte_do_filho: # Se Do indice que eu to até o fim for maior que meu limite de 38 bits 75%\n",
    "            parte_01_filho = pais[pai][pontos_corte[ponto]:taxa_primeira_parte_do_filho + pontos_corte[ponto]] # Meu filho pega só os 37 que lhe cabem\n",
    "            ##PRINTS ABAIXO APENAS PARA MOSTRAR OS CASOS EM QUE SÃO 10 E 40\n",
    "            #print(\"Filho Direto\")\n",
    "            #print(\"Pai {}           {} \\nPT1P1                     {}\".format(pai,pais[pai],pais[pai][pontos_corte[ponto]:]))\n",
    "            #print(\"Filho01                   {}\".format(parte_01_filho))\n",
    "            #print(f\"Primeira parte do filho/Bits \" + str(len(parte_01_filho)))\n",
    "        else:\n",
    "            #print(\"Filho particionado\")\n",
    "            parte_01_pai = pais[pai][pontos_corte[ponto]:]\n",
    "            parte_02_pai = pais[pai][:taxa_primeira_parte_do_filho - len(pais[pai][pontos_corte[ponto]:])]\n",
    "            parte_01_filho = parte_01_pai + parte_02_pai\n",
    "            ##PRINTS ABAIXO APENAS PARA MOSTRAR OS CASOS EM QUE SÃO 10 E 40\n",
    "            #print(\"Filho particionado\")\n",
    "            #print(\"Pai {}          {}\".format(pai,pais[pai]))\n",
    "            #print(\"PT1P1                                                  {}\".format(parte_01_pai))\n",
    "            #print(\"PT2P2          {}\".format(parte_02_pai))\n",
    "            #print(\"Filho          {}\".format(parte_01_filho))\n",
    "            #print(f\"Primeira parte do Filho/Bits \" + str(len(parte_01_filho)))\n",
    "        ######################################  12 Primeiro ##########################################################################################\n",
    "        ## Para o primeiro Filho - Genes do Pai 01\n",
    "        #Se de onde eu começo bater até o limite, tá ok ainda, posso pegar so os bits do vetor mesmo\n",
    "        if len(pais[pai][pontos_corte[ponto]:]) >= taxa_segunda_parte_do_filho: # Se Do indice que eu to até o fim for maior que meu limite de 38 bits 75%\n",
    "            parte_02_filho = pais[pai][pontos_corte[ponto]:taxa_segunda_parte_do_filho + pontos_corte[ponto]] # Meu filho pega só os 37 que lhe cabem\n",
    "            ##PRINTS ABAIXO APENAS PARA MOSTRAR OS CASOS EM QUE SÃO 10 E 40\n",
    "            #print(\"Filho Direto\")\n",
    "            #print(\"Pai {}           {} \\nPT1P1                     {}\".format(pai,pais[pai],pais[pai][pontos_corte[ponto]:]))\n",
    "            #print(\"Filho01                   {}\".format(parte_02_filho))\n",
    "            #print(f\"Primeira parte do filho/Bits \" + str(len(parte_02_filho)))\n",
    "        else:\n",
    "            #print(\"Filho particionado\")\n",
    "            parte_01_pai = pais[pai][pontos_corte[ponto]:]\n",
    "            parte_02_pai = pais[pai][:taxa_segunda_parte_do_filho - len(pais[pai][pontos_corte[ponto]:])]\n",
    "            parte_02_filho = parte_01_pai + parte_02_pai\n",
    "            ##PRINTS ABAIXO APENAS PARA MOSTRAR OS CASOS EM QUE SÃO 10 E 40\n",
    "            #print(\"Filho particionado\")\n",
    "            #print(\"Pai {}          {}\".format(pai,pais[pai]))\n",
    "            #print(\"PT1P1                                                  {}\".format(parte_01_pai))\n",
    "            #print(\"PT2P2          {}\".format(parte_02_pai))\n",
    "            #print(\"Filho          {}\".format(parte_02_filho))\n",
    "            #print(f\"Primeira parte do Filho/Bits \" + str(len(parte_02_filho)))\n",
    "        filhos_nao_cruzados.append([parte_01_filho,parte_02_filho])    \n",
    "        ponto = ponto + 1\n",
    "    return filhos_nao_cruzados"
   ]
  },
  {
   "cell_type": "code",
   "execution_count": 15,
   "id": "30864863-6262-4eb5-bb97-5bacd969b90d",
   "metadata": {},
   "outputs": [],
   "source": [
    "def crossover(filhos_sem_cruzamento):\n",
    "    ###### Cria e Armazeno os individuos selecionados para ser usado no laço ######\n",
    "    pais = []\n",
    "    pais.append(populacao[individuos_selecionados[0]]) #Pai_01\n",
    "    pais.append(populacao[individuos_selecionados[1]])  #Pai_02\n",
    "    filhos_cruzados = []\n",
    "    filho01 = filhos_sem_cruzamento[0][0] + filhos_sem_cruzamento[1][1]\n",
    "    filho02 = filhos_sem_cruzamento[1][0] + filhos_sem_cruzamento[0][1]\n",
    "    filhos_cruzados.append(filho01)\n",
    "    filhos_cruzados.append(filho02)\n",
    "    if filhos_cruzados[0] != pais[0] and filhos_cruzados[0] != pais[1] and filhos_cruzados[1] != pais[0] and filhos_cruzados[1] != pais[1] :\n",
    "        return filhos_cruzados\n",
    "       #print(\"ok\")\n",
    "    else:\n",
    "        #print(\"Fodeu\")\n",
    "        novos_individuos_selecionados = girandoRoleta(roleta,2)\n",
    "        nova_reproducao = reproducao(novos_individuos_selecionados,taxa_cruzamento)\n",
    "        return crossover(nova_reproducao)"
   ]
  },
  {
   "cell_type": "code",
   "execution_count": 16,
   "id": "8492929b-49ee-4411-9d83-e78b957eb890",
   "metadata": {},
   "outputs": [],
   "source": [
    "def mutacao(filhos_cruzados, taxa_mutacao):\n",
    "    filhos_mutados = []\n",
    "    for filho in filhos_cruzados:\n",
    "        filho_mutado = \"\"\n",
    "        for bit in filho:\n",
    "            if random.random() < taxa_mutacao:\n",
    "                # Com uma certa probabilidade (taxa_mutacao), o bit será invertido\n",
    "                filho_mutado += \"1\" if bit == \"0\" else \"0\"\n",
    "            else:\n",
    "                filho_mutado += bit\n",
    "        filhos_mutados.append(filho_mutado)\n",
    "    return filhos_mutados"
   ]
  },
  {
   "cell_type": "code",
   "execution_count": 17,
   "id": "fae599e5-5ac5-4ec1-a202-8d7849143f7a",
   "metadata": {},
   "outputs": [],
   "source": [
    "def pioresPaisMelhoresFilhos(populacao, filhos_mutados):\n",
    "    # Decodificar a população atual\n",
    "    populacao_convertida = decodificarPopulacao(populacao,dominio_max,dominio_min,precisao_dominio)\n",
    "    # Calcular as aptidões dos indivíduos na população atual\n",
    "    aptidoes = calculandoAptidao(populacao_convertida)\n",
    "    # Encontrar os índices dos dois piores indivíduos na população atual\n",
    "    indices_piores = sorted(range(len(aptidoes)), key=lambda i: aptidoes[i])[:2]\n",
    "    # Calculaas aptidões dos filhos mutados\n",
    "    aptidoes_filhos_mutados = calculandoAptidao(decodificarPopulacao(filhos_mutados,dominio_max,dominio_min,precisao_dominio))\n",
    "    # Verificar se algum filho mutado é melhor que os piores indivíduos e troca\n",
    "    for i, indice_pior in enumerate(indices_piores):\n",
    "        if aptidoes_filhos_mutados[i] > aptidoes[indice_pior]:\n",
    "            populacao[indice_pior] = filhos_mutados[i]\n",
    "    return populacao"
   ]
  },
  {
   "cell_type": "code",
   "execution_count": 18,
   "id": "a5f8fa2f-3b1c-4a79-923f-a4d032f6f20a",
   "metadata": {},
   "outputs": [],
   "source": [
    "def novaGeracao(populacao, taxa_cruzamento, taxa_mutacao):\n",
    "    # Partição da população atual para seleção\n",
    "    probabilidades_relativas = particaoPopulacao(populacao)\n",
    "    # Criação da roleta\n",
    "    roleta = criandoRoleta(probabilidades_relativas)\n",
    "    # Seleção de indivíduos para reprodução\n",
    "    individuos_selecionados = girandoRoleta(roleta, 2)\n",
    "    # Reprodução\n",
    "    filhos_sem_cruzamento = reproducao(individuos_selecionados, taxa_cruzamento)\n",
    "    # Crossover\n",
    "    filhos_cruzados = crossover(filhos_sem_cruzamento)\n",
    "    # Mutação\n",
    "    filhos_mutados = mutacao(filhos_cruzados, taxa_mutacao)\n",
    "    # Substituição dos piores pais pelos melhores filhos\n",
    "    populacao = pioresPaisMelhoresFilhos(populacao, filhos_mutados)\n",
    "    \n",
    "    return populacao"
   ]
  },
  {
   "cell_type": "code",
   "execution_count": 59,
   "id": "ef5d3dfd-1bdf-4060-a223-a31872b90be9",
   "metadata": {},
   "outputs": [
    {
     "name": "stdout",
     "output_type": "stream",
     "text": [
      "Geração 1: Melhor aptidão = 0.5003275415\n",
      "Geração 2: Melhor aptidão = 0.5003275415\n"
     ]
    }
   ],
   "source": [
    "#def algoritmoGenetico():\n",
    "t = 0\n",
    "individuos = 100\n",
    "NGEN = 1\n",
    "taxa_mutacao = 0.01  #Taxa de mutação de 1%\n",
    "taxa_de_cruzamento = 75 ## 75% \n",
    "precisao_casas_decimais = 5 ## Precisão de casas decimais\n",
    "dominio_max = 100\n",
    "dominio_min = -100\n",
    "## Hiper Parametros ##\n",
    "bits = bits_necessarios(dominio_max,dominio_min,precisao_casas_decimais)\n",
    "precisao_dominio = precisao(dominio_max,dominio_min,bits)\n",
    "##Iniciando o Ag ##\n",
    "populacao = gerarPopulacao(individuos)\n",
    "populacao_separada = geraPopulacaoSeparada(individuos,populacao) ## Etapa para avaliacao\n",
    "populacao_decodificada = decodificarPopulacao(populacao_separada,dominio_max,dominio_min,precisao_dominio) ## Etapa para avaliacao\n",
    "## Realizo a avalização de toda a População de Indivíduos  - Aptidão relativa ##\n",
    "aptidoes = calculandoAptidao(populacao_decodificada)\n",
    "apitidoes_relativas = particaoPopulacao(aptidoes)\n",
    "#Inicio as rodadas de Gerações (Seleção,Mutação,Cruzamento)\n",
    "contador = 0\n",
    "aptidao_alvo = 0.8\n",
    "while contador <= NGEN:\n",
    "    contador = contador + 1\n",
    "    if max(aptidoes) >= aptidao_alvo:\n",
    "        print(f'Solução ótima alcançada na geração {contador}')\n",
    "        break\n",
    "    roleta = criandoRoleta(apitidoes_relativas)\n",
    "    ## Seleção de indivíduos para reprodução ##\n",
    "    individuos_selecionados = girandoRoleta(roleta, 2)\n",
    "    ## Reprodução (Cruzamento dos selecionados) ##\n",
    "    filhos_sem_cruzamento = reproducao(individuos_selecionados,taxa_de_cruzamento)\n",
    "    filhos_cruzados = crossover(filhos_sem_cruzamento)\n",
    "    ## Mutação ##\n",
    "    filhos_mutados = mutacao(filhos_cruzados, taxa_mutacao)\n",
    "    ## Substituição ##\n",
    "    populacao = pioresPaisMelhoresFilhos(populacao, filhos_mutados)\n",
    "    ## Reavaliação da população ##\n",
    "    populacao_decodificada_substituida = decodificarPopulacao(populacao, dominio_max, dominio_min, precisao_dominio)\n",
    "    aptidoes_apos_substituicao = calculandoAptidao(populacao_decodificada)\n",
    "    proporcoes_apos_substituicao = particaoPopulacao(aptidoes)\n",
    "    print(f'Geração {contador}: Melhor aptidão = {max(aptidoes)}')"
   ]
  },
  {
   "cell_type": "code",
   "execution_count": 60,
   "id": "b383fabe-8f9e-4662-9888-dedef76e87e0",
   "metadata": {},
   "outputs": [
    {
     "data": {
      "text/plain": [
       "[[41.929428038878086, -21.14706996521562],\n",
       " [-92.64512040153505, 95.70782171809142],\n",
       " [39.588932382730604, 60.79267742611995],\n",
       " [-34.38921971288978, 58.33471889301296],\n",
       " [-30.39808661932011, 28.632442016376302],\n",
       " [67.02631613690602, -2.9696256807335004],\n",
       " [-80.20377696167758, 33.206061518372934],\n",
       " [-19.424692375203747, -72.5143722449056],\n",
       " [-33.72759025477143, -29.635588217842226],\n",
       " [44.83339026073784, -46.03631931651591],\n",
       " [-55.62854873027053, -39.56053076864871],\n",
       " [-9.575823234791258, 44.4889588501739],\n",
       " [53.763352446656, 85.81122713718494],\n",
       " [7.947162030552676, -23.7366057555856],\n",
       " [58.407835912938, 59.71380352121005],\n",
       " [-64.54222692675074, -21.539399669748533],\n",
       " [-30.07438570482688, -87.08845934535442],\n",
       " [-39.36216054445984, 67.23241708375267],\n",
       " [19.92217659718324, -95.72892772343539],\n",
       " [11.671445121510175, -21.688220551258937],\n",
       " [-18.258408256125705, -65.5629863012727],\n",
       " [-10.626265723295987, -45.61546282814332],\n",
       " [-99.66277479120417, 79.55188690280576],\n",
       " [-82.5479502245173, -25.08004680514476],\n",
       " [-81.70294707128248, -27.661065091522488],\n",
       " [73.06168595140235, -13.656422902835104],\n",
       " [-82.02497905567226, -68.20146942739098],\n",
       " [-51.22361633848001, -20.597032326371448],\n",
       " [-48.619519132957436, -73.897617277432],\n",
       " [-24.876353886018805, 41.38424817872786],\n",
       " [84.67577054130348, 28.59356190543062],\n",
       " [-2.31539315925221, -18.764952384381075],\n",
       " [-81.84153383497994, -67.385767918401],\n",
       " [9.8774883114543, -92.16617918509779],\n",
       " [51.873992439329385, -25.77886360224676],\n",
       " [-31.525526390240387, 93.61168127094749],\n",
       " [-9.082868965949686, -46.663997967958394],\n",
       " [-85.72281556495474, 53.31253270246185],\n",
       " [-86.25274259605237, 44.970039873422365],\n",
       " [-85.682224800653, 65.86615937549351],\n",
       " [7.752982013016393, -2.1135122213814412],\n",
       " [17.102197322314893, -19.015643567313063],\n",
       " [89.47845069999846, -10.571059899659758],\n",
       " [-46.734468541576526, 57.71980159639719],\n",
       " [-38.053367675941224, -28.660944958357362],\n",
       " [3.1046778888904356, 91.5812489861622],\n",
       " [-39.218716002068405, 26.258126683775387],\n",
       " [16.663864751573342, 48.32144225601678],\n",
       " [-76.44145418529075, 55.465947254477356],\n",
       " [17.38241664714863, 19.266191699093326],\n",
       " [23.289249041356115, 46.50902588692384],\n",
       " [-68.10187602346767, -37.43891529556856],\n",
       " [62.44857795383268, 39.044110150459716],\n",
       " [23.511020049781195, 9.425160569702399],\n",
       " [71.80808698559065, 34.4940762071036],\n",
       " [62.66610511142329, -23.92425310385981],\n",
       " [-60.64249755866818, -24.296162256484095],\n",
       " [-59.627811897629854, 11.259904839393641],\n",
       " [-91.4398906064001, -77.01764038257718],\n",
       " [12.90289500066325, -29.353038351328323],\n",
       " [32.83782401197624, -93.26024035394909],\n",
       " [86.34387214016533, -28.1911530551658],\n",
       " [85.10754064045966, 93.25546006129562],\n",
       " [-49.253778137379236, 21.747169546698615],\n",
       " [90.91777178400073, -83.92828655029197],\n",
       " [73.22941938726362, 95.5397366148155],\n",
       " [-26.58453960968673, -75.3992609798688],\n",
       " [55.20531401650052, 0.5706399849247958],\n",
       " [-8.94146290247032, -99.8477339699189],\n",
       " [91.63614486563637, 83.54579757290475],\n",
       " [-61.86470871760573, 59.32212350732456],\n",
       " [80.08783996366978, -65.93055623562802],\n",
       " [59.21328542272107, 37.23592571127193],\n",
       " [7.97765576772855, 51.91517925009666],\n",
       " [70.97275170602654, 73.25582424568606],\n",
       " [-93.52838973785609, -17.122284088202846],\n",
       " [84.49125839743789, -46.028058112503835],\n",
       " [58.161507790133584, 33.58462851001704],\n",
       " [63.73023282677627, 4.403796923273703],\n",
       " [-54.60128052834513, -65.41991726815453],\n",
       " [95.11151299212912, 74.45493264362014],\n",
       " [-18.527302698114596, -97.9274451114966],\n",
       " [-24.16489494338319, 85.95678764452896],\n",
       " [85.41858748848998, -54.64493497147963],\n",
       " [7.863894339319884, 33.26141039316087],\n",
       " [-51.88270067819061, -56.85200562632101],\n",
       " [-65.51777021639855, 17.26574651198824],\n",
       " [-48.28993523984955, -26.474890901890134],\n",
       " [-47.25331506888018, 91.63445805413895],\n",
       " [-71.52216945654659, 13.29008082419874],\n",
       " [87.38986812203729, -41.230664885957985],\n",
       " [52.90529587582634, -86.07235509372816],\n",
       " [33.114979657977216, -26.9192316210041],\n",
       " [-81.07403460365637, 42.35378332000326],\n",
       " [-79.39757643334795, 1.5686303844639724],\n",
       " [22.27812177771692, 41.275034584851085],\n",
       " [31.207487917169573, 75.20849630857992],\n",
       " [-66.53166313563773, 81.8988615840334],\n",
       " [49.544994519501756, -14.851454342945047],\n",
       " [26.574329333732408, -89.89756673269173]]"
      ]
     },
     "execution_count": 60,
     "metadata": {},
     "output_type": "execute_result"
    }
   ],
   "source": [
    "populacao_decodificada"
   ]
  },
  {
   "cell_type": "code",
   "execution_count": 61,
   "id": "7d795dbb-5d27-4c95-9601-3c2ff6c21a72",
   "metadata": {},
   "outputs": [
    {
     "data": {
      "text/plain": [
       "[0.5000068712,\n",
       " 0.4999998569,\n",
       " 0.5000028271,\n",
       " 0.5000070323,\n",
       " 0.5000420967,\n",
       " 0.5000068764,\n",
       " 0.5000024876,\n",
       " 0.5000025772,\n",
       " 0.4999928627,\n",
       " 0.499997141,\n",
       " 0.5000057506,\n",
       " 0.4999884774,\n",
       " 0.4999998406,\n",
       " 0.5001482859,\n",
       " 0.4999990542,\n",
       " 0.5000064056,\n",
       " 0.5000018783,\n",
       " 0.4999997537,\n",
       " 0.5000009615,\n",
       " 0.5002584074,\n",
       " 0.5000063627,\n",
       " 0.5000044656,\n",
       " 0.4999998264,\n",
       " 0.5000026873,\n",
       " 0.5000026857,\n",
       " 0.500004498,\n",
       " 0.5000004924,\n",
       " 0.5000157537,\n",
       " 0.5000000438,\n",
       " 0.5000258536,\n",
       " 0.4999992388,\n",
       " 0.5003275415,\n",
       " 0.5000009624,\n",
       " 0.5000020269,\n",
       " 0.4999957496,\n",
       " 0.500001555,\n",
       " 0.5000175425,\n",
       " 0.5000000907,\n",
       " 0.5000004268,\n",
       " 0.4999996694,\n",
       " 0.4913063717,\n",
       " 0.5000163336,\n",
       " 0.4999994787,\n",
       " 0.5000046004,\n",
       " 0.5000191092,\n",
       " 0.5000014199,\n",
       " 0.5000114537,\n",
       " 0.4999963605,\n",
       " 0.5000003819,\n",
       " 0.4999510915,\n",
       " 0.4999934334,\n",
       " 0.4999993585,\n",
       " 0.500005026,\n",
       " 0.5000716364,\n",
       " 0.5000034692,\n",
       " 0.5000068508,\n",
       " 0.4999994473,\n",
       " 0.5000098056,\n",
       " 0.5000001604,\n",
       " 0.4999903982,\n",
       " 0.5000015624,\n",
       " 0.5000003325,\n",
       " 0.499999978,\n",
       " 0.5000108799,\n",
       " 0.5000006119,\n",
       " 0.4999998388,\n",
       " 0.5000036281,\n",
       " 0.5000157584,\n",
       " 0.5000007707,\n",
       " 0.5000006319,\n",
       " 0.5000023574,\n",
       " 0.5000004846,\n",
       " 0.4999990017,\n",
       " 0.4999964476,\n",
       " 0.4999995439,\n",
       " 0.4999997054,\n",
       " 0.4999995082,\n",
       " 0.500006986,\n",
       " 0.4999978035,\n",
       " 0.5000016629,\n",
       " 0.4999997717,\n",
       " 0.5000012764,\n",
       " 0.4999992627,\n",
       " 0.4999997497,\n",
       " 0.5000093574,\n",
       " 0.49999858,\n",
       " 0.5000069826,\n",
       " 0.5000161537,\n",
       " 0.4999999636,\n",
       " 0.5000034522,\n",
       " 0.4999997826,\n",
       " 0.500000019,\n",
       " 0.5000436923,\n",
       " 0.5000012202,\n",
       " 0.5000031742,\n",
       " 0.5000057627,\n",
       " 0.5000017065,\n",
       " 0.5000011779,\n",
       " 0.4999931547,\n",
       " 0.5000012707]"
      ]
     },
     "execution_count": 61,
     "metadata": {},
     "output_type": "execute_result"
    }
   ],
   "source": [
    "aptidoes"
   ]
  },
  {
   "cell_type": "code",
   "execution_count": 62,
   "id": "96530512-deba-4f42-9297-161701d40ccb",
   "metadata": {},
   "outputs": [],
   "source": [
    "# Decodificar a população atual\n",
    "#populacao_convertida = decodificarPopulacao(populacao,dominio_max,dominio_min,precisao_dominio)\n",
    "# Calcular as aptidões dos indivíduos na população atual\n",
    "#aptidoes = calculandoAptidao(populacao_convertida)\n",
    "# Encontrar os índices dos dois piores indivíduos na população atual\n",
    "#indices_piores = sorted(range(len(aptidoes)), key=lambda i: aptidoes[i])[:2]\n",
    "# Calculaas aptidões dos filhos mutados\n",
    "#aptidoes_filhos_mutados = calculandoAptidao(decodificarPopulacao(filhos_mutados,dominio_max,dominio_min,precisao_dominio))\n",
    "# Verificar se algum filho mutado é melhor que os piores indivíduos e troca\n",
    "#for i, indice_pior in enumerate(indices_piores):\n",
    "#    if aptidoes_filhos_mutados[i] > aptidoes[indice_pior]:\n",
    "#        populacao[indice_pior] = filhos_mutados[i]"
   ]
  },
  {
   "cell_type": "code",
   "execution_count": 63,
   "id": "5982b02b-691d-4105-b840-18570c0690c2",
   "metadata": {},
   "outputs": [
    {
     "data": {
      "text/plain": [
       "[0.4913063717, 0.4999510915]"
      ]
     },
     "execution_count": 63,
     "metadata": {},
     "output_type": "execute_result"
    }
   ],
   "source": [
    "sorted(aptidoes)[:2]"
   ]
  },
  {
   "cell_type": "code",
   "execution_count": 64,
   "id": "830b4686-473d-4e3c-b5ad-093781238980",
   "metadata": {},
   "outputs": [
    {
     "data": {
      "text/plain": [
       "['01001001000101110010011111010010010100101101101100',\n",
       " '10110110110000100100000100000000110100010110010001']"
      ]
     },
     "execution_count": 64,
     "metadata": {},
     "output_type": "execute_result"
    }
   ],
   "source": [
    "filhos_mutados"
   ]
  },
  {
   "cell_type": "code",
   "execution_count": 65,
   "id": "169d9d51-827d-4262-9f25-7771e1e95c7e",
   "metadata": {},
   "outputs": [],
   "source": [
    "populacao_separada_filhos = geraPopulacaoSeparada(2,filhos_mutados) ## Etapa para avaliacao\n",
    "populacao_decodificada_filhos = decodificarPopulacao(populacao_separada_filhos,dominio_max,dominio_min,precisao_dominio) ## Etapa para avaliacao\n",
    "aptidoes_filhos_mutados = calculandoAptidao(populacao_decodificada_filhos)"
   ]
  },
  {
   "cell_type": "code",
   "execution_count": 66,
   "id": "441dd19d-9d4b-4afa-a53a-f3c55a534518",
   "metadata": {},
   "outputs": [
    {
     "data": {
      "text/plain": [
       "[['0100100100010111001001111', '1010010010100101101101100'],\n",
       " ['1011011011000010010000010', '0000000110100010110010001']]"
      ]
     },
     "execution_count": 66,
     "metadata": {},
     "output_type": "execute_result"
    }
   ],
   "source": [
    "populacao_separada_filhos"
   ]
  },
  {
   "cell_type": "code",
   "execution_count": 67,
   "id": "3bad9a74-2fa5-4e21-92e3-be694b944fd8",
   "metadata": {},
   "outputs": [
    {
     "data": {
      "text/plain": [
       "[[-42.898086991849155, 28.630713481626316],\n",
       " [42.78032013119221, -98.72197505003139]]"
      ]
     },
     "execution_count": 67,
     "metadata": {},
     "output_type": "execute_result"
    }
   ],
   "source": [
    "populacao_decodificada_filhos"
   ]
  },
  {
   "cell_type": "code",
   "execution_count": 68,
   "id": "f860f65a-c659-4c03-9f66-1af74987ae6d",
   "metadata": {},
   "outputs": [
    {
     "data": {
      "text/plain": [
       "[0.4999934628, 0.4999998494]"
      ]
     },
     "execution_count": 68,
     "metadata": {},
     "output_type": "execute_result"
    }
   ],
   "source": [
    "aptidoes_filhos_mutados"
   ]
  },
  {
   "cell_type": "code",
   "execution_count": 69,
   "id": "d14ece6b-c22d-448f-93e0-2dca919ebfc8",
   "metadata": {},
   "outputs": [
    {
     "data": {
      "text/plain": [
       "[0.4913063717, 0.4999510915]"
      ]
     },
     "execution_count": 69,
     "metadata": {},
     "output_type": "execute_result"
    }
   ],
   "source": [
    "sorted(aptidoes)[:2]"
   ]
  },
  {
   "cell_type": "code",
   "execution_count": 82,
   "id": "a5299a65-fb97-479c-90fb-7d31792ec5c8",
   "metadata": {},
   "outputs": [
    {
     "data": {
      "text/plain": [
       "98"
      ]
     },
     "execution_count": 82,
     "metadata": {},
     "output_type": "execute_result"
    }
   ],
   "source": [
    "min(aptidoes)\n",
    "nova_lista = aptidoes\n",
    "len(aptidoes)"
   ]
  },
  {
   "cell_type": "code",
   "execution_count": 68,
   "id": "0fc1965f-f8f6-4370-b481-38505a706c3f",
   "metadata": {},
   "outputs": [
    {
     "name": "stdout",
     "output_type": "stream",
     "text": [
      "Ok\n",
      "Ok\n"
     ]
    }
   ],
   "source": [
    "if aptidoes_filhos_mutados[0] > apitdoes_ordenadas_populacao[0]:\n",
    "    apitdoes_ordenadas_populacao[0] = aptidoes_filhos_mutados[0]\n",
    "    print(\"Ok\")\n",
    "if aptidoes_filhos_mutados[1] > apitdoes_ordenadas_populacao[1]:\n",
    "    apitdoes_ordenadas_populacao[1] = aptidoes_filhos_mutados[1]\n",
    "    print(\"Ok\")"
   ]
  },
  {
   "cell_type": "code",
   "execution_count": null,
   "id": "9cf8b607-047c-48be-af16-17cb01934f1b",
   "metadata": {},
   "outputs": [],
   "source": []
  }
 ],
 "metadata": {
  "kernelspec": {
   "display_name": "Python 3 (ipykernel)",
   "language": "python",
   "name": "python3"
  },
  "language_info": {
   "codemirror_mode": {
    "name": "ipython",
    "version": 3
   },
   "file_extension": ".py",
   "mimetype": "text/x-python",
   "name": "python",
   "nbconvert_exporter": "python",
   "pygments_lexer": "ipython3",
   "version": "3.10.14"
  }
 },
 "nbformat": 4,
 "nbformat_minor": 5
}
