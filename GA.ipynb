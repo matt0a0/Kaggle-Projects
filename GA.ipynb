{
 "cells": [
  {
   "cell_type": "code",
   "execution_count": 91,
   "id": "feb5e568-f5f2-40b6-b9ef-1fff613d7e72",
   "metadata": {},
   "outputs": [],
   "source": [
    "import math\n",
    "import matplotlib\n",
    "import matplotlib.pyplot as plt\n",
    "import random"
   ]
  },
  {
   "cell_type": "code",
   "execution_count": 152,
   "id": "9a94aad5-561b-417f-a919-ef1f52fc3fa2",
   "metadata": {},
   "outputs": [],
   "source": [
    "#Calculando quantos bits são necessários para representar qualquer valor no dominio de -100 a 100\n",
    "#Precisamos ajustar(arredondar) a quantidade de bits para que seja inteiro\n",
    "def bits_necessarios(dominio_max, dominio_min, precisao_casas_decimais):\n",
    "    k_bits = math.ceil(math.log2((dominio_max - dominio_min) * (10 ** precisao_casas_decimais)))\n",
    "    return k_bits"
   ]
  },
  {
   "cell_type": "code",
   "execution_count": 153,
   "id": "ab30a4ac-8622-433a-bf1b-1b8ebbef7b3b",
   "metadata": {},
   "outputs": [],
   "source": [
    "#Definindo a precisão\n",
    "def precisao(dominio_max,dominio_min,bits):\n",
    "    precisao = (dominio_max - dominio_min) / ((2 ** bits) -1)\n",
    "    return precisao"
   ]
  },
  {
   "cell_type": "code",
   "execution_count": 281,
   "id": "a907379e-3845-438a-ae9c-dcab958fe749",
   "metadata": {},
   "outputs": [],
   "source": [
    "def funcaoObjetiva(x, y):\n",
    "    inner = (x ** 2) + (y ** 2)\n",
    "    sin_inner = math.sin(math.sqrt(inner * 10000))  # Multiplicação por 10000 para compensar a escala de [0, 1]\n",
    "    numerator = (sin_inner ** 2) - 0.5\n",
    "    denominator = 1 + 000.1 * inner\n",
    "    f6 = 0.5 - (numerator / (denominator ** 2))\n",
    "    return round(f6, 10)"
   ]
  },
  {
   "cell_type": "code",
   "execution_count": 199,
   "id": "d631102d-67f0-4cbd-8ab1-89b1075e8110",
   "metadata": {},
   "outputs": [],
   "source": [
    "#Criando uma População Inicial Aleatória 50 bits 25 para x e 25 para y\n",
    "def gerarPopulacao(individuos):\n",
    "    populacao = []\n",
    "    cont = 0\n",
    "    while cont < individuos:\n",
    "        caracteres = \"\"\n",
    "        for cromossomo in range(0, 50):\n",
    "            caracteres = caracteres + str(random.randint(0, 1))\n",
    "        populacao.append(caracteres)\n",
    "        cont = cont + 1\n",
    "    return populacao"
   ]
  },
  {
   "cell_type": "code",
   "execution_count": 200,
   "id": "15cd2b59-746e-41a7-a016-def13c884d6e",
   "metadata": {},
   "outputs": [],
   "source": [
    "p = gerarPopulacao(10)"
   ]
  },
  {
   "cell_type": "code",
   "execution_count": 201,
   "id": "7c921350-0a74-4952-bad1-25b298df2f52",
   "metadata": {},
   "outputs": [],
   "source": [
    "def geraPopulacaoSeparada(populacao):\n",
    "    cadeia_gene_separada = []\n",
    "    for i in range(0, len(populacao)):\n",
    "        x = populacao[i][:25]\n",
    "        y = populacao[i][25:]\n",
    "        cadeia_gene_seperada_eixos = [x, y]\n",
    "        cadeia_gene_separada.append(cadeia_gene_seperada_eixos)\n",
    "    return cadeia_gene_separada"
   ]
  },
  {
   "cell_type": "code",
   "execution_count": 209,
   "id": "243e71bc-018c-401c-ba8f-6e5aa74d5e1b",
   "metadata": {},
   "outputs": [],
   "source": [
    "## Criando o Decodificador para representao o valor em binário para a representação no domínio em forma real\n",
    "def decodificador_decimal(cadeia_gene_separada):\n",
    "    decimais = []\n",
    "    for i in range(0, len(cadeia_gene_separada)):\n",
    "        v1 = int(cadeia_gene_separada[i][0], 2)\n",
    "        v2 = int(cadeia_gene_separada[i][1], 2)\n",
    "        decimais.append([v1,v2])\n",
    "    return decimais"
   ]
  },
  {
   "cell_type": "code",
   "execution_count": 267,
   "id": "3b08da90-35aa-4ddd-ab55-7a348825d4d9",
   "metadata": {},
   "outputs": [],
   "source": [
    "## Realizaremos agora a conversão do objeto decimal, para o que é representado no domínio\n",
    "def decodificador_real(decodificados_decimais, dominio_max, dominio_min, precisao_dominio):\n",
    "    decodificados_reais = []\n",
    "    for i in range(len(decodificados_decimais)):\n",
    "        v1 = round(dominio_min + precisao_dominio * decodificados_decimais[i][0],5)\n",
    "        v2 = round(dominio_min + precisao_dominio * decodificados_decimais[i][1],5)\n",
    "        decodificados_reais.append([v1, v2])\n",
    "    return decodificados_reais"
   ]
  },
  {
   "cell_type": "code",
   "execution_count": 277,
   "id": "236fa5d9-edec-449a-9c31-e058a696160f",
   "metadata": {},
   "outputs": [],
   "source": [
    "def ajustar_escala(valores_reais, dominio_max, dominio_min):\n",
    "    diferenca = dominio_max - dominio_min\n",
    "    razao = 1 / diferenca\n",
    "    valores_ajustados = []\n",
    "    for par in valores_reais:\n",
    "        valor_ajustado_x = (par[0] - dominio_min) * razao\n",
    "        valor_ajustado_y = (par[1] - dominio_min) * razao\n",
    "        valores_ajustados.append([valor_ajustado_x, valor_ajustado_y])\n",
    "    return valores_ajustados"
   ]
  },
  {
   "cell_type": "code",
   "execution_count": 278,
   "id": "03b906a9-a9d9-4c4f-b11e-a186c99bd92e",
   "metadata": {},
   "outputs": [],
   "source": [
    "#Vamos aplicar a decodificação dos valores binários para os valores reais para podermos futuramente calcular o fitnnes\n",
    "def decodificarPopulacao(populacao,dominio_max,dominio_min,precisao_casas_decimais):\n",
    "    bits = bits_necessarios(dominio_max, dominio_min, precisao_casas_decimais)\n",
    "    precisao_dominio = precisao(dominio_max,dominio_min,bits)\n",
    "    cadeia_gene_separada = geraPopulacaoSeparada(populacao)\n",
    "    dec_decimais = decodificador_decimal(cadeia_gene_separada)\n",
    "    dec_reais = decodificador_real(dec_decimais,dominio_max,dominio_min,precisao_dominio)\n",
    "   # Supondo que 'decodificados_reais' seja a lista de valores reais decodificados\n",
    "    # de sua população\n",
    "    decodificados_reais_ajustados = ajustar_escala(dec_reais, dominio_max,dominio_min)\n",
    "    return decodificados_reais_ajustados"
   ]
  },
  {
   "cell_type": "code",
   "execution_count": 282,
   "id": "1cc79058-8b07-4271-a680-51b07313deb1",
   "metadata": {},
   "outputs": [
    {
     "data": {
      "text/plain": [
       "[[0.2263452, 0.65729495],\n",
       " [0.658831, 0.045310699999999995],\n",
       " [0.6084854000000001, 0.4310139],\n",
       " [0.2712315, 0.90331035],\n",
       " [0.5470991500000001, 0.49688585],\n",
       " [0.6900833000000001, 0.9944095999999999],\n",
       " [0.35847615, 0.5460504],\n",
       " [0.38040725000000003, 0.11652295000000003],\n",
       " [0.9832132, 0.4050391],\n",
       " [0.88815465, 0.12944405000000003]]"
      ]
     },
     "execution_count": 282,
     "metadata": {},
     "output_type": "execute_result"
    }
   ],
   "source": [
    "decodificarPopulacao(p,100,-100,5)"
   ]
  },
  {
   "cell_type": "code",
   "execution_count": 322,
   "id": "7b70c8e5-f9ac-493f-a957-88a728fe459a",
   "metadata": {},
   "outputs": [
    {
     "data": {
      "text/plain": [
       "0.8153409475"
      ]
     },
     "execution_count": 322,
     "metadata": {},
     "output_type": "execute_result"
    }
   ],
   "source": [
    "funcaoObjetiva(0.2263452,0.65729495)"
   ]
  },
  {
   "cell_type": "code",
   "execution_count": 288,
   "id": "b7efdfb4-a782-42f7-977b-b2cba9378a6d",
   "metadata": {},
   "outputs": [],
   "source": [
    "def calcular_aptidoes(populacao_decodificada):\n",
    "    aptidoes = []\n",
    "    for individuo in populacao_decodificada:\n",
    "        x, y = individuo\n",
    "        aptidao = funcaoObjetiva(x, y)\n",
    "        aptidoes.append(aptidao)\n",
    "    return aptidoes"
   ]
  },
  {
   "cell_type": "code",
   "execution_count": 289,
   "id": "aed76210-11e4-4a14-ac7b-36b38b28b442",
   "metadata": {},
   "outputs": [],
   "source": [
    "def particaoPopulacao(aptidoes):\n",
    "    proporcoes = []\n",
    "    soma_aptidoes = sum(aptidoes)\n",
    "    for aptidao in aptidoes:\n",
    "        proporcao_individuo_atual = aptidao / soma_aptidoes\n",
    "        proporcoes.append(proporcao_individuo_atual)\n",
    "    return proporcoes"
   ]
  },
  {
   "cell_type": "code",
   "execution_count": 290,
   "id": "89514c76-e921-40ba-bcef-271bcd19b817",
   "metadata": {},
   "outputs": [],
   "source": [
    "def criandoRoleta(probabilidades_relativas):\n",
    "    roleta = []\n",
    "    acumulado = 0\n",
    "    for probabilidade in probabilidades_relativas:\n",
    "        acumulado += probabilidade\n",
    "        roleta.append(acumulado)\n",
    "    return roleta"
   ]
  },
  {
   "cell_type": "code",
   "execution_count": 291,
   "id": "2b62abfe-cd11-447b-998b-c27da96ffd84",
   "metadata": {},
   "outputs": [],
   "source": [
    "##def girandoRoleta(roleta,num_selecionados):\n",
    "def girandoRoleta(roleta, quantidade_individuos):\n",
    "    individuos_selecionados = []\n",
    "    for i in range(0,quantidade_individuos):\n",
    "        ##Giro a roleta\n",
    "        giro_aleatorio = random.random()\n",
    "        #Selecionando ddeposi que a roleta gira\n",
    "        for i in range(len(roleta)):\n",
    "            if roleta[i] >= giro_aleatorio:\n",
    "                individuos_selecionados.append(i)\n",
    "                break\n",
    "    return individuos_selecionados"
   ]
  },
  {
   "cell_type": "code",
   "execution_count": 292,
   "id": "adc485e1-0bc5-45b2-b1e7-6fd98589780b",
   "metadata": {},
   "outputs": [],
   "source": [
    "def reproducao(individuos_selecionados,taxa_cruzamento,populacao):\n",
    "    ###### Defino a taxa de cruzamento para os pai ######\n",
    "    taxa_primeira_parte_do_filho = round((taxa_cruzamento * 50) / 100) ## 50 quantidade de bits\n",
    "    taxa_segunda_parte_do_filho = 50 - taxa_primeira_parte_do_filho ## Quantos bits serão usados no segundo corte\n",
    "    ###### Cria e Armazeno os individuos selecionados para ser usado no laço ######\n",
    "    pais = []\n",
    "    pais.append(populacao[individuos_selecionados[0]]) #Pai_01\n",
    "    pais.append(populacao[individuos_selecionados[1]])  #Pai_02\n",
    "    pontos_corte = []\n",
    "    #Pont0s de corte de cada pai, para seus filhos\n",
    "    ponto_corte_pai01 = random.randint(0,50) #Para fins de teste escolha 10 E 40\n",
    "    ponto_corte_pai02 = random.randint(0,50) #Para fins de teste escolha 10 E 40\n",
    "    # Mostra os pontos de Corte de cada pai\n",
    "    ##print(\"Pai1: {} \\nPai2 :{}\".format(ponto_corte_pai01,ponto_corte_pai02))\n",
    "    #print(\"Pai 1 {} \\nPai                                           {}\".format(pai_01,pai_01[40:]))\n",
    "    #print(\"Pai 2 {} \\nPai             {}\".format(pai_02,pai_02[10:]))\n",
    "    ###### Armazeno os ponto de corte para ser usado no laço ######\n",
    "    pontos_corte.append(ponto_corte_pai01)\n",
    "    pontos_corte.append(ponto_corte_pai02)\n",
    "    ###### Cria um lista contendo os genes dos pais separados, dado o ponto de corte que eels receberam ######\n",
    "    filhos_nao_cruzados = []\n",
    "    ###### Indice de acesso a minha lista de pontos de corte ######\n",
    "    ponto = 0\n",
    "    ###### Atribuo a partir do ponto de corte de cada um dos pais, seus respectivos cromossomos os filho nãa cruzados ######\n",
    "    for pai in range(0,len(pais)):\n",
    "        #print(\"############################################# {} CICLO #############################################\".format(pai))\n",
    "        #print(\"############################################# Ponto de Corte {} = {}  ##############################\".format(ponto,pontos_corte[ponto]))\n",
    "        ## 38 Primeiro + 12 Primeiro -> 38 Segundo + 12 Segundo ....... \n",
    "        ######################################  38 Primeiro ##########################################################################################\n",
    "        ## Para o primeiro Filho - Genes do Pai 01 \n",
    "        #Se de onde eu começo bater até o limite, tá ok ainda, posso pegar so os bits do vetor mesmo\n",
    "        if len(pais[pai][pontos_corte[ponto]:]) >= taxa_primeira_parte_do_filho: # Se Do indice que eu to até o fim for maior que meu limite de 38 bits 75%\n",
    "            parte_01_filho = pais[pai][pontos_corte[ponto]:taxa_primeira_parte_do_filho + pontos_corte[ponto]] # Meu filho pega só os 37 que lhe cabem\n",
    "            ##PRINTS ABAIXO APENAS PARA MOSTRAR OS CASOS EM QUE SÃO 10 E 40\n",
    "            #print(\"Filho Direto\")\n",
    "            #print(\"Pai {}           {} \\nPT1P1                     {}\".format(pai,pais[pai],pais[pai][pontos_corte[ponto]:]))\n",
    "            #print(\"Filho01                   {}\".format(parte_01_filho))\n",
    "            #print(f\"Primeira parte do filho/Bits \" + str(len(parte_01_filho)))\n",
    "        else:\n",
    "            #print(\"Filho particionado\")\n",
    "            parte_01_pai = pais[pai][pontos_corte[ponto]:]\n",
    "            parte_02_pai = pais[pai][:taxa_primeira_parte_do_filho - len(pais[pai][pontos_corte[ponto]:])]\n",
    "            parte_01_filho = parte_01_pai + parte_02_pai\n",
    "            ##PRINTS ABAIXO APENAS PARA MOSTRAR OS CASOS EM QUE SÃO 10 E 40\n",
    "            #print(\"Filho particionado\")\n",
    "            #print(\"Pai {}          {}\".format(pai,pais[pai]))\n",
    "            #print(\"PT1P1                                                  {}\".format(parte_01_pai))\n",
    "            #print(\"PT2P2          {}\".format(parte_02_pai))\n",
    "            #print(\"Filho          {}\".format(parte_01_filho))\n",
    "            #print(f\"Primeira parte do Filho/Bits \" + str(len(parte_01_filho)))\n",
    "        ######################################  12 Primeiro ##########################################################################################\n",
    "        ## Para o primeiro Filho - Genes do Pai 01\n",
    "        #Se de onde eu começo bater até o limite, tá ok ainda, posso pegar so os bits do vetor mesmo\n",
    "        if len(pais[pai][pontos_corte[ponto]:]) >= taxa_segunda_parte_do_filho: # Se Do indice que eu to até o fim for maior que meu limite de 38 bits 75%\n",
    "            parte_02_filho = pais[pai][pontos_corte[ponto]:taxa_segunda_parte_do_filho + pontos_corte[ponto]] # Meu filho pega só os 37 que lhe cabem\n",
    "            ##PRINTS ABAIXO APENAS PARA MOSTRAR OS CASOS EM QUE SÃO 10 E 40\n",
    "            #print(\"Filho Direto\")\n",
    "            #print(\"Pai {}           {} \\nPT1P1                     {}\".format(pai,pais[pai],pais[pai][pontos_corte[ponto]:]))\n",
    "            #print(\"Filho01                   {}\".format(parte_02_filho))\n",
    "            #print(f\"Primeira parte do filho/Bits \" + str(len(parte_02_filho)))\n",
    "        else:\n",
    "            #print(\"Filho particionado\")\n",
    "            parte_01_pai = pais[pai][pontos_corte[ponto]:]\n",
    "            parte_02_pai = pais[pai][:taxa_segunda_parte_do_filho - len(pais[pai][pontos_corte[ponto]:])]\n",
    "            parte_02_filho = parte_01_pai + parte_02_pai\n",
    "            ##PRINTS ABAIXO APENAS PARA MOSTRAR OS CASOS EM QUE SÃO 10 E 40\n",
    "            #print(\"Filho particionado\")\n",
    "            #print(\"Pai {}          {}\".format(pai,pais[pai]))\n",
    "            #print(\"PT1P1                                                  {}\".format(parte_01_pai))\n",
    "            #print(\"PT2P2          {}\".format(parte_02_pai))\n",
    "            #print(\"Filho          {}\".format(parte_02_filho))\n",
    "            #print(f\"Primeira parte do Filho/Bits \" + str(len(parte_02_filho)))\n",
    "        filhos_nao_cruzados.append([parte_01_filho,parte_02_filho])    \n",
    "        ponto = ponto + 1\n",
    "    return filhos_nao_cruzados"
   ]
  },
  {
   "cell_type": "code",
   "execution_count": 293,
   "id": "30864863-6262-4eb5-bb97-5bacd969b90d",
   "metadata": {},
   "outputs": [],
   "source": [
    "def crossover(filhos_sem_cruzamento,populacao,individuos_selecionados):\n",
    "    ###### Cria e Armazeno os individuos selecionados para ser usado no laço ######\n",
    "    pais = []\n",
    "    pais.append(populacao[individuos_selecionados[0]]) #Pai_01\n",
    "    pais.append(populacao[individuos_selecionados[1]])  #Pai_02\n",
    "    filhos_cruzados = []\n",
    "    filho01 = filhos_sem_cruzamento[0][0] + filhos_sem_cruzamento[1][1]\n",
    "    filho02 = filhos_sem_cruzamento[1][0] + filhos_sem_cruzamento[0][1]\n",
    "    filhos_cruzados.append(filho01)\n",
    "    filhos_cruzados.append(filho02)\n",
    "    if filhos_cruzados[0] != pais[0] and filhos_cruzados[0] != pais[1] and filhos_cruzados[1] != pais[0] and filhos_cruzados[1] != pais[1] :\n",
    "        return filhos_cruzados\n",
    "       #print(\"ok\")\n",
    "    else:\n",
    "        #print(\"Fodeu\")\n",
    "        novos_individuos_selecionados = girandoRoleta(roleta,2)\n",
    "        nova_reproducao = reproducao(novos_individuos_selecionados,taxa_cruzamento)\n",
    "        return crossover(nova_reproducao)"
   ]
  },
  {
   "cell_type": "code",
   "execution_count": 294,
   "id": "8492929b-49ee-4411-9d83-e78b957eb890",
   "metadata": {},
   "outputs": [],
   "source": [
    "def mutacao(filhos_cruzados, taxa_mutacao):\n",
    "    filhos_mutados = []\n",
    "    for filho in filhos_cruzados:\n",
    "        filho_mutado = \"\"\n",
    "        for bit in filho:\n",
    "            if random.random() < taxa_mutacao:\n",
    "                # Com uma certa probabilidade (taxa_mutacao), o bit será invertido\n",
    "                filho_mutado += \"1\" if bit == \"0\" else \"0\"\n",
    "            else:\n",
    "                filho_mutado += bit\n",
    "        filhos_mutados.append(filho_mutado)\n",
    "    return filhos_mutados"
   ]
  },
  {
   "cell_type": "code",
   "execution_count": 239,
   "id": "fae599e5-5ac5-4ec1-a202-8d7849143f7a",
   "metadata": {},
   "outputs": [],
   "source": [
    "def trocaPaiseFilhos(populacao,filhos_mutados,aptidoes,dominio_max,dominio_min,precisao_dominio):\n",
    "#lista binaria dos pais\n",
    "#lista binaria dos filhos\n",
    "#lista aptidão sem substituição\n",
    "#2 piores indices dentro dessa lista sem substituição\n",
    "#verifico se o piorpai é menor que o filho\n",
    "#    se for faço a troca entre a lista binária dos pais, no 1 pior indice pelo 1 filho binario\n",
    "#verifico se o segundo pior pai é menor que o segundo filho\n",
    "#    se for faço a troca entre a lista binária dos pais, no 2 pior indice pelo 2 filho binario\n",
    "    clonepop = populacao.copy()\n",
    "    populacao_separada_filhos = geraPopulacaoSeparada(filhos_mutados) ## Etapa para avaliacao\n",
    "    populacao_decodificada_filhos = decodificarPopulacao(populacao_separada_filhos,dominio_max,dominio_min,precisao_dominio) ## Etapa para avaliacao\n",
    "    aptidoes_filhos_mutados = calculandoAptidao(populacao_decodificada_filhos)\n",
    "    piores_indices = sorted(range(len(aptidoes)), key=lambda i: aptidoes[i])[:2]\n",
    "    print(piores_indices)\n",
    "    if aptidoes[piores_indices[0]] < aptidoes_filhos_mutados[0]:\n",
    "        clonepop[piores_indices[0]] = filhos_mutados[0]\n",
    "    if aptidoes[piores_indices[1]] < aptidoes_filhos_mutados[1]:\n",
    "        clonepop[piores_indices[1]] = filhos_mutados[1]\n",
    "    if clonepop != populacao:\n",
    "        #print(\"Tudo Certo\")\n",
    "        #print(\"Indices que foram trocados\")\n",
    "        #print(piores_indices)\n",
    "        return clonepop\n",
    "    else:\n",
    "        ## Seleção de indivíduos para reprodução ##\n",
    "        individuos_selecionados = girandoRoleta(roleta, 2)\n",
    "    \n",
    "        ## Reprodução (Cruzamento dos selecionados) ##\n",
    "        filhos_sem_cruzamento = reproducao(individuos_selecionados,taxa_de_cruzamento,populacao)\n",
    "        filhos_cruzados = crossover(filhos_sem_cruzamento,populacao,individuos_selecionados)\n",
    "   \n",
    "        ## Mutação ##\n",
    "        filhos_mutados = mutacao(filhos_cruzados, taxa_mutacao)\n",
    "    return trocaPaiseFilhos(populacao,filhos_mutados,aptidoes,dominio_max,dominio_min,precisao_dominio)"
   ]
  },
  {
   "cell_type": "code",
   "execution_count": 111,
   "id": "27d1ae9b-3947-4bd6-bd25-2bc8ca18ec95",
   "metadata": {},
   "outputs": [
    {
     "ename": "TypeError",
     "evalue": "int() can't convert non-string with explicit base",
     "output_type": "error",
     "traceback": [
      "\u001b[1;31m---------------------------------------------------------------------------\u001b[0m",
      "\u001b[1;31mTypeError\u001b[0m                                 Traceback (most recent call last)",
      "Cell \u001b[1;32mIn[111], line 31\u001b[0m\n\u001b[0;32m     29\u001b[0m filhos_cruzados \u001b[38;5;241m=\u001b[39m crossover(filhos_sem_cruzamento, populacao, individuos_selecionados)\n\u001b[0;32m     30\u001b[0m filhos_mutados \u001b[38;5;241m=\u001b[39m mutacao(filhos_cruzados, taxa_mutacao)\n\u001b[1;32m---> 31\u001b[0m populacao \u001b[38;5;241m=\u001b[39m \u001b[43mtrocaPaiseFilhos\u001b[49m\u001b[43m(\u001b[49m\u001b[43mpopulacao\u001b[49m\u001b[43m,\u001b[49m\u001b[43m \u001b[49m\u001b[43mfilhos_mutados\u001b[49m\u001b[43m,\u001b[49m\u001b[43m \u001b[49m\u001b[43maptidoes\u001b[49m\u001b[43m,\u001b[49m\u001b[43m \u001b[49m\u001b[43mdominio_max\u001b[49m\u001b[43m,\u001b[49m\u001b[43m \u001b[49m\u001b[43mdominio_min\u001b[49m\u001b[43m,\u001b[49m\u001b[43m \u001b[49m\u001b[43mprecisao_dominio\u001b[49m\u001b[43m)\u001b[49m\n\u001b[0;32m     32\u001b[0m populacao_decodificada \u001b[38;5;241m=\u001b[39m decodificarPopulacao(populacao, dominio_max, dominio_min, precisao_dominio)\n\u001b[0;32m     33\u001b[0m aptidoes \u001b[38;5;241m=\u001b[39m calculandoAptidao(populacao_decodificada)\n",
      "Cell \u001b[1;32mIn[107], line 12\u001b[0m, in \u001b[0;36mtrocaPaiseFilhos\u001b[1;34m(populacao, filhos_mutados, aptidoes, dominio_max, dominio_min, precisao_dominio)\u001b[0m\n\u001b[0;32m     10\u001b[0m clonepop \u001b[38;5;241m=\u001b[39m populacao\u001b[38;5;241m.\u001b[39mcopy()\n\u001b[0;32m     11\u001b[0m populacao_separada_filhos \u001b[38;5;241m=\u001b[39m geraPopulacaoSeparada(filhos_mutados) \u001b[38;5;66;03m## Etapa para avaliacao\u001b[39;00m\n\u001b[1;32m---> 12\u001b[0m populacao_decodificada_filhos \u001b[38;5;241m=\u001b[39m \u001b[43mdecodificarPopulacao\u001b[49m\u001b[43m(\u001b[49m\u001b[43mpopulacao_separada_filhos\u001b[49m\u001b[43m,\u001b[49m\u001b[43mdominio_max\u001b[49m\u001b[43m,\u001b[49m\u001b[43mdominio_min\u001b[49m\u001b[43m,\u001b[49m\u001b[43mprecisao_dominio\u001b[49m\u001b[43m)\u001b[49m \u001b[38;5;66;03m## Etapa para avaliacao\u001b[39;00m\n\u001b[0;32m     13\u001b[0m aptidoes_filhos_mutados \u001b[38;5;241m=\u001b[39m calculandoAptidao(populacao_decodificada_filhos)\n\u001b[0;32m     14\u001b[0m piores_indices \u001b[38;5;241m=\u001b[39m \u001b[38;5;28msorted\u001b[39m(\u001b[38;5;28mrange\u001b[39m(\u001b[38;5;28mlen\u001b[39m(aptidoes)), key\u001b[38;5;241m=\u001b[39m\u001b[38;5;28;01mlambda\u001b[39;00m i: aptidoes[i])[:\u001b[38;5;241m2\u001b[39m]\n",
      "Cell \u001b[1;32mIn[99], line 4\u001b[0m, in \u001b[0;36mdecodificarPopulacao\u001b[1;34m(populacao, dominio_max, dominio_min, precisao_dominio)\u001b[0m\n\u001b[0;32m      2\u001b[0m \u001b[38;5;28;01mdef\u001b[39;00m \u001b[38;5;21mdecodificarPopulacao\u001b[39m(populacao,dominio_max,dominio_min,precisao_dominio):\n\u001b[0;32m      3\u001b[0m     cadeia_gene_separada \u001b[38;5;241m=\u001b[39m geraPopulacaoSeparada(populacao)\n\u001b[1;32m----> 4\u001b[0m     dec_decimais \u001b[38;5;241m=\u001b[39m \u001b[43mdecodificador_decimal\u001b[49m\u001b[43m(\u001b[49m\u001b[43mcadeia_gene_separada\u001b[49m\u001b[43m)\u001b[49m\n\u001b[0;32m      5\u001b[0m     dec_reais \u001b[38;5;241m=\u001b[39m decodificador_real(dec_decimais,dominio_max,dominio_min,precisao_dominio)\n\u001b[0;32m      6\u001b[0m     \u001b[38;5;28;01mreturn\u001b[39;00m dec_reais\n",
      "Cell \u001b[1;32mIn[97], line 5\u001b[0m, in \u001b[0;36mdecodificador_decimal\u001b[1;34m(cadeia_gene_separada)\u001b[0m\n\u001b[0;32m      3\u001b[0m decimais \u001b[38;5;241m=\u001b[39m []\n\u001b[0;32m      4\u001b[0m \u001b[38;5;28;01mfor\u001b[39;00m i \u001b[38;5;129;01min\u001b[39;00m \u001b[38;5;28mrange\u001b[39m(\u001b[38;5;241m0\u001b[39m, \u001b[38;5;28mlen\u001b[39m(cadeia_gene_separada)):\n\u001b[1;32m----> 5\u001b[0m     v1 \u001b[38;5;241m=\u001b[39m \u001b[38;5;28;43mint\u001b[39;49m\u001b[43m(\u001b[49m\u001b[43mcadeia_gene_separada\u001b[49m\u001b[43m[\u001b[49m\u001b[43mi\u001b[49m\u001b[43m]\u001b[49m\u001b[43m[\u001b[49m\u001b[38;5;241;43m0\u001b[39;49m\u001b[43m]\u001b[49m\u001b[43m,\u001b[49m\u001b[43m \u001b[49m\u001b[38;5;241;43m2\u001b[39;49m\u001b[43m)\u001b[49m\n\u001b[0;32m      6\u001b[0m     v2 \u001b[38;5;241m=\u001b[39m \u001b[38;5;28mint\u001b[39m(cadeia_gene_separada[i][\u001b[38;5;241m1\u001b[39m], \u001b[38;5;241m2\u001b[39m)\n\u001b[0;32m      7\u001b[0m     decimais\u001b[38;5;241m.\u001b[39mappend([v1,v2])\n",
      "\u001b[1;31mTypeError\u001b[0m: int() can't convert non-string with explicit base"
     ]
    }
   ],
   "source": [
    "t = 0\n",
    "individuos = 100\n",
    "NGEN = 100\n",
    "taxa_mutacao = 0.01  #Taxa de mutação de 1%\n",
    "taxa_de_cruzamento = 75 ## 75% \n",
    "precisao_casas_decimais = 5 ## Precisão de casas decimais\n",
    "dominio_max = 100\n",
    "dominio_min = -100\n",
    "\n",
    "bits = bits_necessarios(dominio_max, dominio_min, precisao_casas_decimais)\n",
    "precisao_dominio = precisao(dominio_max, dominio_min, bits)\n",
    "\n",
    "populacao = gerarPopulacao(individuos)\n",
    "populacao_decodificada = decodificarPopulacao(populacao, dominio_max, dominio_min, precisao_dominio)\n",
    "\n",
    "aptidoes = calculandoAptidao(populacao_decodificada)\n",
    "aptidoes_relativas = particaoPopulacao(aptidoes)\n",
    "\n",
    "contador = 0\n",
    "aptidao_alvo = 1.0\n",
    "while contador < NGEN:\n",
    "    contador = contador + 1\n",
    "    if max(aptidoes) == aptidao_alvo:\n",
    "        print(f'Solução ótima alcançada na geração {contador}')\n",
    "        break\n",
    "    roleta = criandoRoleta(aptidoes_relativas)\n",
    "    individuos_selecionados = girandoRoleta(roleta, 2)\n",
    "    filhos_sem_cruzamento = reproducao(individuos_selecionados, taxa_de_cruzamento, populacao)\n",
    "    filhos_cruzados = crossover(filhos_sem_cruzamento, populacao, individuos_selecionados)\n",
    "    filhos_mutados = mutacao(filhos_cruzados, taxa_mutacao)\n",
    "    populacao = trocaPaiseFilhos(populacao, filhos_mutados, aptidoes, dominio_max, dominio_min, precisao_dominio)\n",
    "    populacao_decodificada = decodificarPopulacao(populacao, dominio_max, dominio_min, precisao_dominio)\n",
    "    aptidoes = calculandoAptidao(populacao_decodificada)\n",
    "    aptidoes_relativas = particaoPopulacao(aptidoes)\n",
    "    print(f'Geração {contador}: Melhor aptidão = {max(aptidoes)}')"
   ]
  },
  {
   "cell_type": "code",
   "execution_count": 301,
   "id": "33db7106-eb97-4a6c-8e24-3139f11b6ab4",
   "metadata": {},
   "outputs": [],
   "source": [
    "t = 0\n",
    "individuos = 100\n",
    "NGEN = 100\n",
    "taxa_mutacao = 0.01  #Taxa de mutação de 1%\n",
    "taxa_de_cruzamento = 75 ## 75% \n",
    "precisao_casas_decimais = 5 ## Precisão de casas decimais\n",
    "dominio_max = 100\n",
    "dominio_min = -100"
   ]
  },
  {
   "cell_type": "code",
   "execution_count": 302,
   "id": "2665d379-8f61-4fb0-9065-085680c940c7",
   "metadata": {},
   "outputs": [
    {
     "data": {
      "text/plain": [
       "25"
      ]
     },
     "execution_count": 302,
     "metadata": {},
     "output_type": "execute_result"
    }
   ],
   "source": [
    "bits = bits_necessarios(dominio_max, dominio_min, precisao_casas_decimais)\n",
    "bits"
   ]
  },
  {
   "cell_type": "code",
   "execution_count": 303,
   "id": "b8f901a7-06ca-4b1a-8703-f7e3f9609266",
   "metadata": {},
   "outputs": [
    {
     "data": {
      "text/plain": [
       "5.9604646551747515e-06"
      ]
     },
     "execution_count": 303,
     "metadata": {},
     "output_type": "execute_result"
    }
   ],
   "source": [
    "precisao_dominio = precisao(dominio_max, dominio_min, bits)\n",
    "precisao_dominio"
   ]
  },
  {
   "cell_type": "code",
   "execution_count": 304,
   "id": "1e1b4254-26f2-4276-9f67-65e36413f377",
   "metadata": {},
   "outputs": [
    {
     "data": {
      "text/plain": [
       "['11101011011110010000010111000001001000000010000011',\n",
       " '10111010100110000111000000110000001011001101110100']"
      ]
     },
     "execution_count": 304,
     "metadata": {},
     "output_type": "execute_result"
    }
   ],
   "source": [
    "populacao = gerarPopulacao(individuos)\n",
    "populacao[:2]"
   ]
  },
  {
   "cell_type": "code",
   "execution_count": 305,
   "id": "6f0ac189-1761-47e2-ad1d-4428e2f8985d",
   "metadata": {},
   "outputs": [
    {
     "data": {
      "text/plain": [
       "[[0.9198154, 0.508793],\n",
       " [0.7288885500000001, 0.37636915000000004],\n",
       " [0.1510046, 0.7982940500000001],\n",
       " [0.47171055000000006, 0.328082],\n",
       " [0.7225478, 0.48312605],\n",
       " [0.9718513999999999, 0.64653985],\n",
       " [0.8898179500000001, 0.18134540000000002],\n",
       " [0.2380455, 0.48712355],\n",
       " [0.34319825000000004, 0.6712089],\n",
       " [0.4669108, 0.7593003500000001],\n",
       " [0.9364840000000001, 0.8791702000000001],\n",
       " [0.3674915, 0.10746839999999999],\n",
       " [0.3920216, 0.2361714],\n",
       " [0.33608225, 0.6585384500000001],\n",
       " [0.83595495, 0.45275385],\n",
       " [0.05058959999999999, 0.9112818],\n",
       " [0.2327688, 0.6763541000000001],\n",
       " [0.9736792, 0.24117945],\n",
       " [0.5000083, 0.324506],\n",
       " [0.1121089, 0.12011145],\n",
       " [0.22604500000000002, 0.98913445],\n",
       " [0.25911025, 0.89117515],\n",
       " [0.18009609999999998, 0.63520955],\n",
       " [0.03551755, 0.8139512],\n",
       " [0.6786141000000001, 0.68633415],\n",
       " [0.30417385, 0.59048015],\n",
       " [0.5946596000000001, 0.50177575],\n",
       " [0.14880895000000002, 0.48413280000000003],\n",
       " [0.07508865, 0.054804099999999994],\n",
       " [0.6428165, 0.4596383],\n",
       " [0.8914925499999999, 0.4842869],\n",
       " [0.06159950000000002, 0.19359269999999998],\n",
       " [0.58469355, 0.35805195],\n",
       " [0.12975560000000003, 0.9167419000000001],\n",
       " [0.64160815, 0.2152743],\n",
       " [0.54063015, 0.8821914000000001],\n",
       " [0.28497105, 0.07957230000000003],\n",
       " [0.47862205, 0.7962802500000001],\n",
       " [0.2928393, 0.8474627000000001],\n",
       " [0.9843631500000001, 0.36393445],\n",
       " [0.40263190000000004, 0.91035305],\n",
       " [0.8787996, 0.69036805],\n",
       " [0.67191375, 0.24651845000000003],\n",
       " [0.09614359999999998, 0.27393295],\n",
       " [0.18237420000000001, 0.9760906],\n",
       " [0.49882689999999996, 0.9182414],\n",
       " [0.31444385, 0.19017295],\n",
       " [0.60008395, 0.8580123000000001],\n",
       " [0.3481919, 0.6727517500000001],\n",
       " [0.6109427000000001, 0.35642260000000003],\n",
       " [0.13860370000000002, 0.38818660000000005],\n",
       " [0.7812594, 0.77393045],\n",
       " [0.6594481000000001, 0.81414245],\n",
       " [0.55927715, 0.8100746],\n",
       " [0.8472153, 0.05923870000000001],\n",
       " [0.09030529999999999, 0.02788780000000003],\n",
       " [0.72771515, 0.61473855],\n",
       " [0.42221435, 0.33291695000000004],\n",
       " [0.5186778000000001, 0.24502220000000002],\n",
       " [0.7292791, 0.37080345000000003],\n",
       " [0.1317035, 0.7373063500000001],\n",
       " [0.3283774, 0.77427315],\n",
       " [0.008928200000000004, 0.4621542],\n",
       " [0.9078288499999999, 0.8207975500000001],\n",
       " [0.7025216500000001, 0.1947011],\n",
       " [0.62160905, 0.657025],\n",
       " [0.9321264500000002, 0.95003335],\n",
       " [0.6061880000000001, 0.69288545],\n",
       " [0.8573401, 0.15544080000000002],\n",
       " [0.8683838, 0.11982815000000002],\n",
       " [0.91759715, 0.31472375],\n",
       " [0.7003886500000001, 0.10495764999999999],\n",
       " [0.05598990000000001, 0.3225565],\n",
       " [0.21158944999999998, 0.35241100000000003],\n",
       " [0.2163048, 0.7337747],\n",
       " [0.5492036, 0.37910835],\n",
       " [0.38697505, 0.7305205000000001],\n",
       " [0.013467649999999979, 0.7569041],\n",
       " [0.9906737, 0.58705155],\n",
       " [0.9126267, 0.5641596],\n",
       " [0.78636095, 0.29903485],\n",
       " [0.4406827, 0.29729675],\n",
       " [0.05185344999999998, 0.58122105],\n",
       " [0.50663485, 0.3529995],\n",
       " [0.30672725, 0.03404955000000001],\n",
       " [0.17209800000000003, 0.57063815],\n",
       " [0.80597535, 0.8325442000000001],\n",
       " [0.22206505, 0.2247298],\n",
       " [0.005029550000000001, 0.8908630500000001],\n",
       " [0.59808695, 0.70635375],\n",
       " [0.59232235, 0.9189906999999999],\n",
       " [0.20669844999999998, 0.3518134],\n",
       " [0.96758815, 0.1840673],\n",
       " [0.5825626, 0.2765605],\n",
       " [0.89854435, 0.94805725],\n",
       " [0.17673589999999997, 0.7409596],\n",
       " [0.15519489999999997, 0.12730229999999998],\n",
       " [0.1307936, 0.3545796],\n",
       " [0.46023800000000004, 0.82196315],\n",
       " [0.63236245, 0.3896498]]"
      ]
     },
     "execution_count": 305,
     "metadata": {},
     "output_type": "execute_result"
    }
   ],
   "source": [
    "populacao_decodificada = decodificarPopulacao(populacao, dominio_max, dominio_min, precisao_casas_decimais)\n",
    "populacao_decodificada"
   ]
  },
  {
   "cell_type": "code",
   "execution_count": 306,
   "id": "6b0ad5ea-5957-4617-a25d-86a136851959",
   "metadata": {},
   "outputs": [],
   "source": [
    "aptidoes = calcular_aptidoes(populacao_decodificada)\n",
    "aptidoes_relativas = particaoPopulacao(aptidoes)"
   ]
  },
  {
   "cell_type": "code",
   "execution_count": 307,
   "id": "528383e1-7184-4bf0-9602-7b6f2636dbfb",
   "metadata": {},
   "outputs": [
    {
     "data": {
      "text/plain": [
       "[0.1076949413,\n",
       " 0.8351293459,\n",
       " 0.7828049705,\n",
       " 0.3845356865,\n",
       " 0.2848665717,\n",
       " 0.7172445146,\n",
       " 0.8544460856,\n",
       " 0.4762805906,\n",
       " 0.9475396889,\n",
       " 0.1999747545,\n",
       " 0.7792812887,\n",
       " 0.685719418,\n",
       " 0.0633657388,\n",
       " 0.0606653361,\n",
       " 0.470105505,\n",
       " 0.9038102302,\n",
       " 0.551938007,\n",
       " 0.8732620057,\n",
       " 0.9599942085,\n",
       " 0.5626492425,\n",
       " 0.3808207675,\n",
       " 0.0906114605,\n",
       " 0.9566930866,\n",
       " 0.9018943178,\n",
       " 0.4283758058,\n",
       " 0.7861137963,\n",
       " 0.5470058124,\n",
       " 0.8424280574,\n",
       " 0.9827049852,\n",
       " 0.7509419224,\n",
       " 0.3882245498,\n",
       " 0.0149313357,\n",
       " 0.7039977952,\n",
       " 0.0825514415,\n",
       " 0.0586158907,\n",
       " 0.873989327,\n",
       " 0.0725808986,\n",
       " 0.1197475941,\n",
       " 0.0855495764,\n",
       " 0.1628081245,\n",
       " 0.3358765173,\n",
       " 0.1450657767,\n",
       " 0.5895983274,\n",
       " 0.5277382716,\n",
       " 0.1768460252,\n",
       " 0.4670085147,\n",
       " 0.3415018789,\n",
       " 0.3083751139,\n",
       " 0.8400091936,\n",
       " 0.0483626031,\n",
       " 0.851605568,\n",
       " 0.8977772122,\n",
       " 0.2619949801,\n",
       " 0.2909060762,\n",
       " 0.9253620363,\n",
       " 0.9984039737,\n",
       " 0.3147890098,\n",
       " 0.8545645903,\n",
       " 0.4719849334,\n",
       " 0.9240175712,\n",
       " 0.7418148383,\n",
       " 0.5568363294,\n",
       " 0.3912454642,\n",
       " 0.8645207449,\n",
       " 0.6260927523,\n",
       " 0.6073284075,\n",
       " 0.2606997621,\n",
       " 0.3573992263,\n",
       " 0.4590603019,\n",
       " 0.8542285258,\n",
       " 0.8013803929,\n",
       " 0.0630678882,\n",
       " 0.0698745021,\n",
       " 0.9174412046,\n",
       " 0.236666974,\n",
       " 0.5224141609,\n",
       " 0.3279519677,\n",
       " 0.867027651,\n",
       " 0.280766237,\n",
       " 0.731833967,\n",
       " 0.580111992,\n",
       " 0.9158183789,\n",
       " 0.0824523274,\n",
       " 0.2395917968,\n",
       " 0.7183404619,\n",
       " 0.9591160203,\n",
       " 0.7906982618,\n",
       " 0.9594992324,\n",
       " 0.231655333,\n",
       " 0.0883448358,\n",
       " 0.6281608179,\n",
       " 0.9824566139,\n",
       " 0.2523651666,\n",
       " 0.0457629559,\n",
       " 0.1781609101,\n",
       " 0.5080742925,\n",
       " 0.1191452315,\n",
       " 0.9774117188,\n",
       " 0.9202074671,\n",
       " 0.2206392658]"
      ]
     },
     "execution_count": 307,
     "metadata": {},
     "output_type": "execute_result"
    }
   ],
   "source": [
    "aptidoes"
   ]
  },
  {
   "cell_type": "code",
   "execution_count": 308,
   "id": "61b85143-2e26-412e-b5ba-c41659d32705",
   "metadata": {},
   "outputs": [
    {
     "data": {
      "text/plain": [
       "[0.0020615675159522274,\n",
       " 0.015986596123673927,\n",
       " 0.014984968458390733,\n",
       " 0.007361035443665629,\n",
       " 0.005453103586002847,\n",
       " 0.013729967020227003,\n",
       " 0.016356369880908196,\n",
       " 0.009117276839627209,\n",
       " 0.018138428965481214,\n",
       " 0.0038280484943049174,\n",
       " 0.014917515819968318,\n",
       " 0.01312649285232924,\n",
       " 0.0012129887175526383,\n",
       " 0.0011612958300399202,\n",
       " 0.008999069282916423,\n",
       " 0.017301330858013334,\n",
       " 0.010565560947574545,\n",
       " 0.016716556619418566,\n",
       " 0.018376841584720464,\n",
       " 0.010770602474093435,\n",
       " 0.007289922016773462,\n",
       " 0.0017345442718560483,\n",
       " 0.018313649334526644,\n",
       " 0.017264655200646593,\n",
       " 0.008200251889242078,\n",
       " 0.015048308181713694,\n",
       " 0.010471145629204202,\n",
       " 0.01612631286760893,\n",
       " 0.018811586234205358,\n",
       " 0.014375025000237018,\n",
       " 0.007431650095182861,\n",
       " 0.0002858254647555837,\n",
       " 0.013476389590513746,\n",
       " 0.0015802540782055342,\n",
       " 0.00112206399601544,\n",
       " 0.01673047948290352,\n",
       " 0.0013893913774052308,\n",
       " 0.0022922873361554317,\n",
       " 0.0016376463516370686,\n",
       " 0.003116580377413753,\n",
       " 0.006429569570106134,\n",
       " 0.002776944667141014,\n",
       " 0.011286479611346479,\n",
       " 0.010102313669726042,\n",
       " 0.0033853031208030287,\n",
       " 0.008939784654292003,\n",
       " 0.006537253947849929,\n",
       " 0.005903119588257839,\n",
       " 0.016080009383198257,\n",
       " 0.0009257888098951077,\n",
       " 0.016301994821671772,\n",
       " 0.017185842852896094,\n",
       " 0.0050152805117570564,\n",
       " 0.0055687157599764,\n",
       " 0.017713889728741473,\n",
       " 0.01911210661458935,\n",
       " 0.006025898609059805,\n",
       " 0.016358638375946668,\n",
       " 0.00903504653951945,\n",
       " 0.017688153092061662,\n",
       " 0.014200308343458227,\n",
       " 0.010659327861977434,\n",
       " 0.007489478428810565,\n",
       " 0.016549225646429338,\n",
       " 0.011985079935363725,\n",
       " 0.011625880485223838,\n",
       " 0.00499048659550951,\n",
       " 0.006841571444976858,\n",
       " 0.008787634728579982,\n",
       " 0.016352205207887875,\n",
       " 0.015340551431487458,\n",
       " 0.0012072870651430197,\n",
       " 0.0013375837526241883,\n",
       " 0.017562263950084357,\n",
       " 0.004530435132862738,\n",
       " 0.01000039603517459,\n",
       " 0.006277872620957862,\n",
       " 0.01659721449454901,\n",
       " 0.0053746122778688425,\n",
       " 0.01400924792962076,\n",
       " 0.011104885929507797,\n",
       " 0.01753119875141497,\n",
       " 0.0015783567708068174,\n",
       " 0.004586424017777953,\n",
       " 0.013750946365455315,\n",
       " 0.01836003072764437,\n",
       " 0.015136067040567391,\n",
       " 0.018367366426123275,\n",
       " 0.004434498999164188,\n",
       " 0.001691155048592922,\n",
       " 0.01202466820952362,\n",
       " 0.018806831747153377,\n",
       " 0.00483094027760459,\n",
       " 0.0008760246505412629,\n",
       " 0.0034104735138069577,\n",
       " 0.009725892827135143,\n",
       " 0.0022807565144288542,\n",
       " 0.018710259041564776,\n",
       " 0.01761521756927721,\n",
       " 0.00422362218342032]"
      ]
     },
     "execution_count": 308,
     "metadata": {},
     "output_type": "execute_result"
    }
   ],
   "source": [
    "aptidoes_relativas"
   ]
  },
  {
   "cell_type": "code",
   "execution_count": 309,
   "id": "8b885311-d174-44e5-a9df-8f761bda0d06",
   "metadata": {},
   "outputs": [
    {
     "data": {
      "text/plain": [
       "0.9999999999999996"
      ]
     },
     "execution_count": 309,
     "metadata": {},
     "output_type": "execute_result"
    }
   ],
   "source": [
    "sum(aptidoes_relativas)"
   ]
  },
  {
   "cell_type": "code",
   "execution_count": 310,
   "id": "26b36428-a1b5-4640-9fcc-6f2ed3ebd881",
   "metadata": {},
   "outputs": [
    {
     "data": {
      "text/plain": [
       "52.23934722810001"
      ]
     },
     "execution_count": 310,
     "metadata": {},
     "output_type": "execute_result"
    }
   ],
   "source": [
    "sum(aptidoes)"
   ]
  },
  {
   "cell_type": "code",
   "execution_count": null,
   "id": "95931f19-23c4-4373-ad64-d173ae4d9251",
   "metadata": {},
   "outputs": [],
   "source": []
  }
 ],
 "metadata": {
  "kernelspec": {
   "display_name": "Python 3 (ipykernel)",
   "language": "python",
   "name": "python3"
  },
  "language_info": {
   "codemirror_mode": {
    "name": "ipython",
    "version": 3
   },
   "file_extension": ".py",
   "mimetype": "text/x-python",
   "name": "python",
   "nbconvert_exporter": "python",
   "pygments_lexer": "ipython3",
   "version": "3.9.19"
  }
 },
 "nbformat": 4,
 "nbformat_minor": 5
}
