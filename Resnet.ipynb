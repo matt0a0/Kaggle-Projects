{
 "cells": [
  {
   "cell_type": "code",
   "execution_count": 1,
   "id": "07290b9a-219e-4aa2-a1be-531dee61b097",
   "metadata": {},
   "outputs": [],
   "source": [
    "import tensorflow as tf\n",
    "from tensorflow.keras import layers, models\n",
    "from tensorflow.keras.datasets import mnist\n",
    "from tensorflow.keras.utils import to_categorical"
   ]
  },
  {
   "cell_type": "code",
   "execution_count": 2,
   "id": "2d87f48b-b0f8-4f37-9f6d-7be8a6babddf",
   "metadata": {},
   "outputs": [],
   "source": [
    "# Carregando dados\n",
    "(x_train, y_train), (x_test, y_test) = mnist.load_data()"
   ]
  },
  {
   "cell_type": "code",
   "execution_count": 3,
   "id": "d1e2dfc7-f3f2-47ee-9f50-ba21c597a5e2",
   "metadata": {},
   "outputs": [],
   "source": [
    "# Normalização dos elementos\n",
    "x_train = x_train.reshape((60000, 28, 28, 1)).astype('float32') / 255\n",
    "x_test = x_test.reshape((10000, 28, 28, 1)).astype('float32') / 255"
   ]
  },
  {
   "cell_type": "code",
   "execution_count": 4,
   "id": "f3c65e91-b0e6-410b-bd83-b86e6c8ff776",
   "metadata": {},
   "outputs": [
    {
     "data": {
      "text/plain": [
       "(60000, 28, 28, 1)"
      ]
     },
     "execution_count": 4,
     "metadata": {},
     "output_type": "execute_result"
    }
   ],
   "source": [
    "x_train.shape #60000 imagens, 28x28px com 1 camada"
   ]
  },
  {
   "cell_type": "code",
   "execution_count": 5,
   "id": "527b5537-3f70-4189-80ea-38f23130d393",
   "metadata": {},
   "outputs": [],
   "source": [
    "#One hot enconding das labels ->>>>>> Pesquisar\n",
    "y_train = to_categorical(y_train)\n",
    "y_test = to_categorical(y_test)"
   ]
  },
  {
   "cell_type": "code",
   "execution_count": 10,
   "id": "f6e0486e-ed5b-40fd-95dd-4463d0224401",
   "metadata": {},
   "outputs": [],
   "source": [
    "# Definindo o bloco residual\n",
    "def residual_block(x, filters, kernel_size=3, stride=1):\n",
    "    # Saida = Ativação(Normalização(Convolução(Entrada)))\n",
    "    y = layers.Conv2D(filters, kernel_size=kernel_size, strides=stride, padding='same')(x)\n",
    "    y = layers.BatchNormalization()(y)\n",
    "    y = layers.Activation('relu')(y)\n",
    "\n",
    "    y = layers.Conv2D(filters, kernel_size=kernel_size, padding='same')(y)\n",
    "    y = layers.BatchNormalization()(y)\n",
    "\n",
    "    if stride > 1: #Garantir que as dimensões sejam iguais\n",
    "        x = layers.Conv2D(filters, kernel_size=1, strides=stride, padding='same')(x)\n",
    "    \n",
    "    out = layers.add([x, y])\n",
    "    out = layers.Activation('relu')(out)\n",
    "    return out"
   ]
  },
  {
   "cell_type": "code",
   "execution_count": 11,
   "id": "fa42dec1-0971-48c6-be5d-111d58b52977",
   "metadata": {},
   "outputs": [],
   "source": [
    "# Construindo a arquitetura ResNet para MNIST\n",
    "input_shape = (28, 28, 1)\n",
    "num_classes = 10\n",
    "\n",
    "inputs = tf.keras.Input(shape=input_shape)\n",
    "x = layers.Conv2D(64, 7, strides=2, padding='same')(inputs) #Se same e stride 1, tamanho \"convolucionado\" = tamanho imagens inicial Retorna tensor 4d\n",
    "x = layers.BatchNormalization()(x)\n",
    "x = layers.Activation('relu')(x)\n",
    "x = layers.MaxPooling2D(3, strides=2, padding='same')(x)"
   ]
  },
  {
   "cell_type": "code",
   "execution_count": 12,
   "id": "9b8faac1-f79d-4695-9777-da49a0d56d69",
   "metadata": {},
   "outputs": [],
   "source": [
    "# Adicionando as conexões entre os blocos residuais\n",
    "for _ in range(3): # Posso aumentar profundidade da minha rede\n",
    "    x = residual_block(x, 64) #64 Filtros\n",
    "\n",
    "x = layers.GlobalAveragePooling2D()(x)\n",
    "outputs = layers.Dense(num_classes, activation='softmax')(x)"
   ]
  },
  {
   "cell_type": "code",
   "execution_count": 6,
   "id": "7b64db69-7c8d-4bc1-9799-f1b32b42581f",
   "metadata": {},
   "outputs": [
    {
     "ename": "NameError",
     "evalue": "name 'inputs' is not defined",
     "output_type": "error",
     "traceback": [
      "\u001b[1;31m---------------------------------------------------------------------------\u001b[0m",
      "\u001b[1;31mNameError\u001b[0m                                 Traceback (most recent call last)",
      "Cell \u001b[1;32mIn[6], line 2\u001b[0m\n\u001b[0;32m      1\u001b[0m \u001b[38;5;66;03m# Criando o modelo\u001b[39;00m\n\u001b[1;32m----> 2\u001b[0m model \u001b[38;5;241m=\u001b[39m models\u001b[38;5;241m.\u001b[39mModel(\u001b[43minputs\u001b[49m, outputs)\n",
      "\u001b[1;31mNameError\u001b[0m: name 'inputs' is not defined"
     ]
    }
   ],
   "source": [
    "# Criando o modelo\n",
    "model = models.Model(inputs, outputs)"
   ]
  },
  {
   "cell_type": "code",
   "execution_count": 14,
   "id": "4f001d0e-8f0d-49e5-b960-f484b690e976",
   "metadata": {},
   "outputs": [],
   "source": [
    "# Compilando o modelo\n",
    "model.compile(optimizer='adam',loss='categorical_crossentropy',metrics=['accuracy'])"
   ]
  },
  {
   "cell_type": "code",
   "execution_count": 16,
   "id": "c102af11-cf94-45e3-b4a3-c1c29e99be17",
   "metadata": {},
   "outputs": [
    {
     "name": "stdout",
     "output_type": "stream",
     "text": [
      "Epoch 1/5\n",
      "750/750 [==============================] - 73s 95ms/step - loss: 0.1297 - accuracy: 0.9617 - val_loss: 0.0858 - val_accuracy: 0.9734\n",
      "Epoch 2/5\n",
      "750/750 [==============================] - 66s 88ms/step - loss: 0.0497 - accuracy: 0.9845 - val_loss: 0.0641 - val_accuracy: 0.9803\n",
      "Epoch 3/5\n",
      "750/750 [==============================] - 64s 85ms/step - loss: 0.0367 - accuracy: 0.9887 - val_loss: 0.0501 - val_accuracy: 0.9842\n",
      "Epoch 4/5\n",
      "750/750 [==============================] - 62s 83ms/step - loss: 0.0295 - accuracy: 0.9909 - val_loss: 0.1103 - val_accuracy: 0.9676\n",
      "Epoch 5/5\n",
      "750/750 [==============================] - 63s 84ms/step - loss: 0.0269 - accuracy: 0.9912 - val_loss: 0.0418 - val_accuracy: 0.9877\n"
     ]
    },
    {
     "data": {
      "text/plain": [
       "<keras.callbacks.History at 0x1fb3593a730>"
      ]
     },
     "execution_count": 16,
     "metadata": {},
     "output_type": "execute_result"
    }
   ],
   "source": [
    "# Treinando o modelo\n",
    "model.fit(x_train, y_train, epochs=5, batch_size=64, validation_split=0.2)"
   ]
  },
  {
   "cell_type": "code",
   "execution_count": 17,
   "id": "4e04a8cd-e8ea-4c99-b373-2169f23519ba",
   "metadata": {},
   "outputs": [
    {
     "name": "stdout",
     "output_type": "stream",
     "text": [
      "313/313 [==============================] - 3s 10ms/step - loss: 0.0476 - accuracy: 0.9837\n",
      "Test accuracy: 0.9836999773979187\n"
     ]
    }
   ],
   "source": [
    "# Avaliando\n",
    "test_loss, test_acc = model.evaluate(x_test, y_test)\n",
    "print(f'Test accuracy: {test_acc}')"
   ]
  }
 ],
 "metadata": {
  "kernelspec": {
   "display_name": "Python 3 (ipykernel)",
   "language": "python",
   "name": "python3"
  },
  "language_info": {
   "codemirror_mode": {
    "name": "ipython",
    "version": 3
   },
   "file_extension": ".py",
   "mimetype": "text/x-python",
   "name": "python",
   "nbconvert_exporter": "python",
   "pygments_lexer": "ipython3",
   "version": "3.9.18"
  }
 },
 "nbformat": 4,
 "nbformat_minor": 5
}
